{
  "nbformat": 4,
  "nbformat_minor": 0,
  "metadata": {
    "colab": {
      "name": "iWildcam.ipynb",
      "provenance": [],
      "collapsed_sections": [],
      "machine_shape": "hm",
      "include_colab_link": true
    },
    "kernelspec": {
      "name": "python3",
      "display_name": "Python 3"
    },
    "accelerator": "GPU"
  },
  "cells": [
    {
      "cell_type": "markdown",
      "metadata": {
        "id": "view-in-github",
        "colab_type": "text"
      },
      "source": [
        "<a href=\"https://colab.research.google.com/github/Mindauskas/iWild/blob/master/iWildcam.ipynb\" target=\"_parent\"><img src=\"https://colab.research.google.com/assets/colab-badge.svg\" alt=\"Open In Colab\"/></a>"
      ]
    },
    {
      "cell_type": "markdown",
      "metadata": {
        "id": "HYmplSCAz7bv",
        "colab_type": "text"
      },
      "source": [
        "The notebook for iWildCam 2019 - FGVC6 image classification (https://www.kaggle.com/c/iwildcam-2019-fgvc6)"
      ]
    },
    {
      "cell_type": "code",
      "metadata": {
        "id": "J5--job_0Qjq",
        "colab_type": "code",
        "outputId": "f33588b2-28bd-4648-8133-af4b92c1d27f",
        "colab": {
          "base_uri": "https://localhost:8080/",
          "height": 326
        }
      },
      "source": [
        "!pip install -q -U toai\n",
        "!pip install -U kaggle"
      ],
      "execution_count": 1,
      "outputs": [
        {
          "output_type": "stream",
          "text": [
            "\u001b[K     |████████████████████████████████| 81kB 6.1MB/s \n",
            "\u001b[K     |████████████████████████████████| 296kB 8.3MB/s \n",
            "\u001b[K     |████████████████████████████████| 153kB 50.3MB/s \n",
            "\u001b[K     |████████████████████████████████| 61kB 13.5MB/s \n",
            "\u001b[?25h  Building wheel for fastparquet (setup.py) ... \u001b[?25l\u001b[?25hdone\n",
            "  Building wheel for thrift (setup.py) ... \u001b[?25l\u001b[?25hdone\n",
            "Requirement already up-to-date: kaggle in /usr/local/lib/python3.6/dist-packages (1.5.6)\n",
            "Requirement already satisfied, skipping upgrade: tqdm in /usr/local/lib/python3.6/dist-packages (from kaggle) (4.28.1)\n",
            "Requirement already satisfied, skipping upgrade: requests in /usr/local/lib/python3.6/dist-packages (from kaggle) (2.21.0)\n",
            "Requirement already satisfied, skipping upgrade: urllib3<1.25,>=1.21.1 in /usr/local/lib/python3.6/dist-packages (from kaggle) (1.24.3)\n",
            "Requirement already satisfied, skipping upgrade: python-dateutil in /usr/local/lib/python3.6/dist-packages (from kaggle) (2.5.3)\n",
            "Requirement already satisfied, skipping upgrade: certifi in /usr/local/lib/python3.6/dist-packages (from kaggle) (2019.9.11)\n",
            "Requirement already satisfied, skipping upgrade: python-slugify in /usr/local/lib/python3.6/dist-packages (from kaggle) (3.0.4)\n",
            "Requirement already satisfied, skipping upgrade: six>=1.10 in /usr/local/lib/python3.6/dist-packages (from kaggle) (1.12.0)\n",
            "Requirement already satisfied, skipping upgrade: idna<2.9,>=2.5 in /usr/local/lib/python3.6/dist-packages (from requests->kaggle) (2.8)\n",
            "Requirement already satisfied, skipping upgrade: chardet<3.1.0,>=3.0.2 in /usr/local/lib/python3.6/dist-packages (from requests->kaggle) (3.0.4)\n",
            "Requirement already satisfied, skipping upgrade: text-unidecode>=1.3 in /usr/local/lib/python3.6/dist-packages (from python-slugify->kaggle) (1.3)\n"
          ],
          "name": "stdout"
        }
      ]
    },
    {
      "cell_type": "code",
      "metadata": {
        "id": "R6KXj1Uc-wIx",
        "colab_type": "code",
        "colab": {}
      },
      "source": [
        "def setup_kaggle():\n",
        "  !mkdir /root/.kaggle\n",
        "  !mv kaggle.json /root/.kaggle\n",
        "  !chmod 600 /root/.kaggle/kaggle.json"
      ],
      "execution_count": 0,
      "outputs": []
    },
    {
      "cell_type": "code",
      "metadata": {
        "id": "e4Wp0WBA-xbz",
        "colab_type": "code",
        "colab": {}
      },
      "source": [
        "setup_kaggle()"
      ],
      "execution_count": 0,
      "outputs": []
    },
    {
      "cell_type": "code",
      "metadata": {
        "id": "pbWcj24i0aIu",
        "colab_type": "code",
        "outputId": "123f3e6b-c13a-4a88-c4f6-34144ca2a51d",
        "colab": {
          "base_uri": "https://localhost:8080/",
          "height": 34
        }
      },
      "source": [
        "__import__('toai').__version__"
      ],
      "execution_count": 4,
      "outputs": [
        {
          "output_type": "execute_result",
          "data": {
            "text/plain": [
              "'0.1.22'"
            ]
          },
          "metadata": {
            "tags": []
          },
          "execution_count": 4
        }
      ]
    },
    {
      "cell_type": "code",
      "metadata": {
        "id": "gqMbRN100aWO",
        "colab_type": "code",
        "colab": {}
      },
      "source": [
        "import os\n",
        "os.environ[\"CUDA_DEVICE_ORDER\"]=\"PCI_BUS_ID\"\n",
        "os.environ[\"CUDA_VISIBLE_DEVICES\"]=\"0\""
      ],
      "execution_count": 0,
      "outputs": []
    },
    {
      "cell_type": "code",
      "metadata": {
        "id": "BAFlNatt0abN",
        "colab_type": "code",
        "outputId": "2006de68-907d-420e-9d33-2c149380fe07",
        "colab": {
          "base_uri": "https://localhost:8080/",
          "height": 71
        }
      },
      "source": [
        "from toai.imports import *\n",
        "from toai.data import Dataset, DataParams, DataContainer\n",
        "from toai.models import save_keras_model, load_keras_model\n",
        "from toai.metrics import sparse_top_2_categorical_accuracy\n",
        "from toai.image import (\n",
        "    ImageLearner,\n",
        "    ImageAugmentor,\n",
        "    ImageDataset,\n",
        "    ImageParser,\n",
        "    ImageResizer,\n",
        "    LearningRateFinder,\n",
        "    ImageTrainingStep,\n",
        "    ImageTrainer,\n",
        ")\n",
        "from toai.utils import download_file, unzip, save_file, load_file\n",
        "import tensorflow as tf\n",
        "from tensorflow import keras"
      ],
      "execution_count": 6,
      "outputs": [
        {
          "output_type": "stream",
          "text": [
            "/usr/local/lib/python3.6/dist-packages/sklearn/externals/joblib/__init__.py:15: DeprecationWarning: sklearn.externals.joblib is deprecated in 0.21 and will be removed in 0.23. Please import this functionality directly from joblib, which can be installed with: pip install joblib. If this warning is raised when loading pickled models, you may need to re-serialize those models with scikit-learn 0.21+.\n",
            "  warnings.warn(msg, category=DeprecationWarning)\n"
          ],
          "name": "stderr"
        }
      ]
    },
    {
      "cell_type": "code",
      "metadata": {
        "id": "507Qvigbj1jz",
        "colab_type": "code",
        "colab": {}
      },
      "source": [
        "tf.enable_eager_execution()"
      ],
      "execution_count": 0,
      "outputs": []
    },
    {
      "cell_type": "markdown",
      "metadata": {
        "id": "Rjs5EOI_1cG-",
        "colab_type": "text"
      },
      "source": [
        "**Download data from Kaggle**"
      ]
    },
    {
      "cell_type": "code",
      "metadata": {
        "id": "N_uRztRR0ad_",
        "colab_type": "code",
        "outputId": "b1c48db2-2e35-4997-957c-b3911e0f116d",
        "colab": {
          "base_uri": "https://localhost:8080/",
          "height": 34
        }
      },
      "source": [
        "os.getcwd()"
      ],
      "execution_count": 8,
      "outputs": [
        {
          "output_type": "execute_result",
          "data": {
            "text/plain": [
              "'/content'"
            ]
          },
          "metadata": {
            "tags": []
          },
          "execution_count": 8
        }
      ]
    },
    {
      "cell_type": "code",
      "metadata": {
        "id": "__wNc0bJ0ag1",
        "colab_type": "code",
        "outputId": "63bf5e62-e5d9-4d96-a745-31d711f4fe65",
        "colab": {
          "base_uri": "https://localhost:8080/",
          "height": 88
        }
      },
      "source": [
        "kaggle.api.authenticate()\n",
        "kaggle.api.competition_download_files(\n",
        "    competition='iwildcam-2019-fgvc6',\n",
        "    path='competition_files',\n",
        "    force=False,\n",
        "    quiet=False)"
      ],
      "execution_count": 9,
      "outputs": [
        {
          "output_type": "stream",
          "text": [
            "  0%|          | 9.00M/43.4G [00:00<13:30, 57.5MB/s]"
          ],
          "name": "stderr"
        },
        {
          "output_type": "stream",
          "text": [
            "Downloading iwildcam-2019-fgvc6.zip to competition_files\n"
          ],
          "name": "stdout"
        },
        {
          "output_type": "stream",
          "text": [
            "100%|██████████| 43.4G/43.4G [08:04<00:00, 96.3MB/s]"
          ],
          "name": "stderr"
        },
        {
          "output_type": "stream",
          "text": [
            "\n"
          ],
          "name": "stdout"
        },
        {
          "output_type": "stream",
          "text": [
            "\n"
          ],
          "name": "stderr"
        }
      ]
    },
    {
      "cell_type": "code",
      "metadata": {
        "id": "4DfvbIiX6vIB",
        "colab_type": "code",
        "outputId": "4dc8d4bc-ff0d-4b26-f7b1-f83e87fbbf04",
        "colab": {
          "base_uri": "https://localhost:8080/",
          "height": 34
        }
      },
      "source": [
        "%cd competition_files/"
      ],
      "execution_count": 10,
      "outputs": [
        {
          "output_type": "stream",
          "text": [
            "/content/competition_files\n"
          ],
          "name": "stdout"
        }
      ]
    },
    {
      "cell_type": "code",
      "metadata": {
        "id": "3A75HocfTQhq",
        "colab_type": "code",
        "outputId": "0392ed92-592c-4fbf-a8a2-ad4532a6c64e",
        "colab": {
          "base_uri": "https://localhost:8080/",
          "height": 119
        }
      },
      "source": [
        "!unzip iwildcam-2019-fgvc6.zip"
      ],
      "execution_count": 11,
      "outputs": [
        {
          "output_type": "stream",
          "text": [
            "Archive:  iwildcam-2019-fgvc6.zip\n",
            "  inflating: train_images.zip        \n",
            "  inflating: train.csv               \n",
            "  inflating: test_images.zip         \n",
            "  inflating: sample_submission.csv   \n",
            "  inflating: test.csv                \n"
          ],
          "name": "stdout"
        }
      ]
    },
    {
      "cell_type": "code",
      "metadata": {
        "id": "GSjiF10WcENp",
        "colab_type": "code",
        "colab": {}
      },
      "source": [
        "!rm iwildcam-2019-fgvc6.zip"
      ],
      "execution_count": 0,
      "outputs": []
    },
    {
      "cell_type": "code",
      "metadata": {
        "id": "Lp_9LG3ugm6r",
        "colab_type": "code",
        "colab": {}
      },
      "source": [
        "!mkdir train\n",
        "!unzip -qq train_images.zip -d train\n",
        "!rm train_images.zip"
      ],
      "execution_count": 0,
      "outputs": []
    },
    {
      "cell_type": "code",
      "metadata": {
        "id": "QCExKda9AXAj",
        "colab_type": "code",
        "colab": {}
      },
      "source": [
        "!mkdir test\n",
        "!unzip -qq test_images.zip -d test\n",
        "!rm test_images.zip"
      ],
      "execution_count": 0,
      "outputs": []
    },
    {
      "cell_type": "code",
      "metadata": {
        "id": "0Cmj_IYziNy0",
        "colab_type": "code",
        "colab": {}
      },
      "source": [
        "train_labels = pd.read_csv('train.csv')"
      ],
      "execution_count": 0,
      "outputs": []
    },
    {
      "cell_type": "code",
      "metadata": {
        "id": "IIRMW75vgnIo",
        "colab_type": "code",
        "outputId": "939add73-083b-4ef1-b0a8-4b21fba18fe1",
        "colab": {
          "base_uri": "https://localhost:8080/",
          "height": 34
        }
      },
      "source": [
        "train_labels.shape"
      ],
      "execution_count": 16,
      "outputs": [
        {
          "output_type": "execute_result",
          "data": {
            "text/plain": [
              "(196299, 11)"
            ]
          },
          "metadata": {
            "tags": []
          },
          "execution_count": 16
        }
      ]
    },
    {
      "cell_type": "code",
      "metadata": {
        "id": "QEf9JqBDgnSy",
        "colab_type": "code",
        "outputId": "a6f5899a-3205-4487-bb30-3e9559e320a0",
        "colab": {
          "base_uri": "https://localhost:8080/",
          "height": 479
        }
      },
      "source": [
        "train_labels.head(5)"
      ],
      "execution_count": 17,
      "outputs": [
        {
          "output_type": "execute_result",
          "data": {
            "text/html": [
              "<div>\n",
              "<style scoped>\n",
              "    .dataframe tbody tr th:only-of-type {\n",
              "        vertical-align: middle;\n",
              "    }\n",
              "\n",
              "    .dataframe tbody tr th {\n",
              "        vertical-align: top;\n",
              "    }\n",
              "\n",
              "    .dataframe thead th {\n",
              "        text-align: right;\n",
              "    }\n",
              "</style>\n",
              "<table border=\"1\" class=\"dataframe\">\n",
              "  <thead>\n",
              "    <tr style=\"text-align: right;\">\n",
              "      <th></th>\n",
              "      <th>category_id</th>\n",
              "      <th>date_captured</th>\n",
              "      <th>file_name</th>\n",
              "      <th>frame_num</th>\n",
              "      <th>id</th>\n",
              "      <th>location</th>\n",
              "      <th>rights_holder</th>\n",
              "      <th>seq_id</th>\n",
              "      <th>seq_num_frames</th>\n",
              "      <th>width</th>\n",
              "      <th>height</th>\n",
              "    </tr>\n",
              "  </thead>\n",
              "  <tbody>\n",
              "    <tr>\n",
              "      <th>0</th>\n",
              "      <td>19</td>\n",
              "      <td>2011-05-13 23:43:18</td>\n",
              "      <td>5998cfa4-23d2-11e8-a6a3-ec086b02610b.jpg</td>\n",
              "      <td>1</td>\n",
              "      <td>5998cfa4-23d2-11e8-a6a3-ec086b02610b</td>\n",
              "      <td>33</td>\n",
              "      <td>Justin Brown</td>\n",
              "      <td>6f084ccc-5567-11e8-bc84-dca9047ef277</td>\n",
              "      <td>3</td>\n",
              "      <td>1024</td>\n",
              "      <td>747</td>\n",
              "    </tr>\n",
              "    <tr>\n",
              "      <th>1</th>\n",
              "      <td>19</td>\n",
              "      <td>2012-03-17 03:48:44</td>\n",
              "      <td>588a679f-23d2-11e8-a6a3-ec086b02610b.jpg</td>\n",
              "      <td>2</td>\n",
              "      <td>588a679f-23d2-11e8-a6a3-ec086b02610b</td>\n",
              "      <td>115</td>\n",
              "      <td>Justin Brown</td>\n",
              "      <td>6f12067d-5567-11e8-b3c0-dca9047ef277</td>\n",
              "      <td>3</td>\n",
              "      <td>1024</td>\n",
              "      <td>747</td>\n",
              "    </tr>\n",
              "    <tr>\n",
              "      <th>2</th>\n",
              "      <td>0</td>\n",
              "      <td>2014-05-11 11:56:46</td>\n",
              "      <td>59279ce3-23d2-11e8-a6a3-ec086b02610b.jpg</td>\n",
              "      <td>1</td>\n",
              "      <td>59279ce3-23d2-11e8-a6a3-ec086b02610b</td>\n",
              "      <td>96</td>\n",
              "      <td>Erin Boydston</td>\n",
              "      <td>6faa92d1-5567-11e8-b1ae-dca9047ef277</td>\n",
              "      <td>1</td>\n",
              "      <td>1024</td>\n",
              "      <td>747</td>\n",
              "    </tr>\n",
              "    <tr>\n",
              "      <th>3</th>\n",
              "      <td>0</td>\n",
              "      <td>2013-10-06 02:00:00</td>\n",
              "      <td>5a2af4ab-23d2-11e8-a6a3-ec086b02610b.jpg</td>\n",
              "      <td>1</td>\n",
              "      <td>5a2af4ab-23d2-11e8-a6a3-ec086b02610b</td>\n",
              "      <td>57</td>\n",
              "      <td>Erin Boydston</td>\n",
              "      <td>6f7d4702-5567-11e8-9e03-dca9047ef277</td>\n",
              "      <td>1</td>\n",
              "      <td>1024</td>\n",
              "      <td>747</td>\n",
              "    </tr>\n",
              "    <tr>\n",
              "      <th>4</th>\n",
              "      <td>0</td>\n",
              "      <td>2011-07-12 13:11:16</td>\n",
              "      <td>599fbd89-23d2-11e8-a6a3-ec086b02610b.jpg</td>\n",
              "      <td>3</td>\n",
              "      <td>599fbd89-23d2-11e8-a6a3-ec086b02610b</td>\n",
              "      <td>46</td>\n",
              "      <td>Justin Brown</td>\n",
              "      <td>6f1728a1-5567-11e8-9be7-dca9047ef277</td>\n",
              "      <td>3</td>\n",
              "      <td>1024</td>\n",
              "      <td>747</td>\n",
              "    </tr>\n",
              "  </tbody>\n",
              "</table>\n",
              "</div>"
            ],
            "text/plain": [
              "   category_id        date_captured  ... width  height\n",
              "0           19  2011-05-13 23:43:18  ...  1024     747\n",
              "1           19  2012-03-17 03:48:44  ...  1024     747\n",
              "2            0  2014-05-11 11:56:46  ...  1024     747\n",
              "3            0  2013-10-06 02:00:00  ...  1024     747\n",
              "4            0  2011-07-12 13:11:16  ...  1024     747\n",
              "\n",
              "[5 rows x 11 columns]"
            ]
          },
          "metadata": {
            "tags": []
          },
          "execution_count": 17
        }
      ]
    },
    {
      "cell_type": "code",
      "metadata": {
        "id": "VeBWFvQQ_YYu",
        "colab_type": "code",
        "outputId": "56bcd0ec-031e-43a3-dd7a-2f99436eb3fe",
        "colab": {
          "base_uri": "https://localhost:8080/",
          "height": 272
        }
      },
      "source": [
        "train_labels.category_id.value_counts(dropna=False)"
      ],
      "execution_count": 18,
      "outputs": [
        {
          "output_type": "execute_result",
          "data": {
            "text/plain": [
              "0     131457\n",
              "19     14106\n",
              "13      8623\n",
              "11      7209\n",
              "8       6938\n",
              "1       6102\n",
              "16      5975\n",
              "17      4759\n",
              "3       3398\n",
              "18      3035\n",
              "4       2210\n",
              "14      1361\n",
              "10      1093\n",
              "22        33\n",
              "Name: category_id, dtype: int64"
            ]
          },
          "metadata": {
            "tags": []
          },
          "execution_count": 18
        }
      ]
    },
    {
      "cell_type": "markdown",
      "metadata": {
        "id": "5bcaLvKiAmhA",
        "colab_type": "text"
      },
      "source": [
        "Some labels do not exist in training dataset (e.g. 2,5, etc.)!"
      ]
    },
    {
      "cell_type": "markdown",
      "metadata": {
        "id": "ankQTWQcLlvk",
        "colab_type": "text"
      },
      "source": [
        "**Creating folder for each category**"
      ]
    },
    {
      "cell_type": "code",
      "metadata": {
        "id": "H5c3brusDjpx",
        "colab_type": "code",
        "colab": {}
      },
      "source": [
        "!mkdir train_data_in_folders"
      ],
      "execution_count": 0,
      "outputs": []
    },
    {
      "cell_type": "code",
      "metadata": {
        "id": "FTVzwmpUFAyY",
        "colab_type": "code",
        "colab": {}
      },
      "source": [
        "def make_dir(target):\n",
        "  if not os.path.exists(target):\n",
        "    os.mkdir(target)\n",
        "  return target"
      ],
      "execution_count": 0,
      "outputs": []
    },
    {
      "cell_type": "code",
      "metadata": {
        "id": "dARvalwZ_Ys7",
        "colab_type": "code",
        "colab": {}
      },
      "source": [
        "def split_to_folders(train_labels_df, source, destination):\n",
        "  dir_data = Path(source)\n",
        "  for _, row in train_labels_df.iterrows():\n",
        "    file_name = row.file_name\n",
        "    category_id = row.category_id\n",
        "    target_dest = make_dir(Path(destination)/str(category_id))\n",
        "    try:\n",
        "      shutil.move('./'+source+'/'+file_name, target_dest)\n",
        "    except Exception as e:\n",
        "      print(e)"
      ],
      "execution_count": 0,
      "outputs": []
    },
    {
      "cell_type": "code",
      "metadata": {
        "id": "NhFKM42Q_YwL",
        "colab_type": "code",
        "outputId": "3d02a8d0-052c-4d2f-9d27-484373bf2d0d",
        "colab": {
          "base_uri": "https://localhost:8080/",
          "height": 1000
        }
      },
      "source": [
        "split_to_folders(train_labels,'train','train_data_in_folders')"
      ],
      "execution_count": 22,
      "outputs": [
        {
          "output_type": "stream",
          "text": [
            "Destination path 'train_data_in_folders/16/5858c2ed-23d2-11e8-a6a3-ec086b02610b.jpg' already exists\n",
            "[Errno 2] No such file or directory: './train/5858c2ed-23d2-11e8-a6a3-ec086b02610b.jpg'\n",
            "[Errno 2] No such file or directory: './train/5858c2ed-23d2-11e8-a6a3-ec086b02610b.jpg'\n",
            "Destination path 'train_data_in_folders/16/5919977e-23d2-11e8-a6a3-ec086b02610b.jpg' already exists\n",
            "[Errno 2] No such file or directory: './train/5919977e-23d2-11e8-a6a3-ec086b02610b.jpg'\n",
            "[Errno 2] No such file or directory: './train/5919977e-23d2-11e8-a6a3-ec086b02610b.jpg'\n",
            "Destination path 'train_data_in_folders/16/5892b57f-23d2-11e8-a6a3-ec086b02610b.jpg' already exists\n",
            "[Errno 2] No such file or directory: './train/5892b57f-23d2-11e8-a6a3-ec086b02610b.jpg'\n",
            "[Errno 2] No such file or directory: './train/5892b57f-23d2-11e8-a6a3-ec086b02610b.jpg'\n",
            "Destination path 'train_data_in_folders/16/58fd7e46-23d2-11e8-a6a3-ec086b02610b.jpg' already exists\n",
            "[Errno 2] No such file or directory: './train/58fd7e46-23d2-11e8-a6a3-ec086b02610b.jpg'\n",
            "[Errno 2] No such file or directory: './train/58fd7e46-23d2-11e8-a6a3-ec086b02610b.jpg'\n",
            "Destination path 'train_data_in_folders/16/587828b7-23d2-11e8-a6a3-ec086b02610b.jpg' already exists\n",
            "[Errno 2] No such file or directory: './train/587828b7-23d2-11e8-a6a3-ec086b02610b.jpg'\n",
            "[Errno 2] No such file or directory: './train/587828b7-23d2-11e8-a6a3-ec086b02610b.jpg'\n",
            "Destination path 'train_data_in_folders/16/58e939b4-23d2-11e8-a6a3-ec086b02610b.jpg' already exists\n",
            "[Errno 2] No such file or directory: './train/58e939b4-23d2-11e8-a6a3-ec086b02610b.jpg'\n",
            "[Errno 2] No such file or directory: './train/58e939b4-23d2-11e8-a6a3-ec086b02610b.jpg'\n",
            "Destination path 'train_data_in_folders/16/58e282bf-23d2-11e8-a6a3-ec086b02610b.jpg' already exists\n",
            "[Errno 2] No such file or directory: './train/58e282bf-23d2-11e8-a6a3-ec086b02610b.jpg'\n",
            "[Errno 2] No such file or directory: './train/58e282bf-23d2-11e8-a6a3-ec086b02610b.jpg'\n",
            "Destination path 'train_data_in_folders/16/588c140f-23d2-11e8-a6a3-ec086b02610b.jpg' already exists\n",
            "[Errno 2] No such file or directory: './train/588c140f-23d2-11e8-a6a3-ec086b02610b.jpg'\n",
            "[Errno 2] No such file or directory: './train/588c140f-23d2-11e8-a6a3-ec086b02610b.jpg'\n",
            "Destination path 'train_data_in_folders/11/585c06ae-23d2-11e8-a6a3-ec086b02610b.jpg' already exists\n",
            "[Errno 2] No such file or directory: './train/585c06ae-23d2-11e8-a6a3-ec086b02610b.jpg'\n",
            "[Errno 2] No such file or directory: './train/585c06ae-23d2-11e8-a6a3-ec086b02610b.jpg'\n",
            "Destination path 'train_data_in_folders/16/592de62a-23d2-11e8-a6a3-ec086b02610b.jpg' already exists\n",
            "[Errno 2] No such file or directory: './train/592de62a-23d2-11e8-a6a3-ec086b02610b.jpg'\n",
            "[Errno 2] No such file or directory: './train/592de62a-23d2-11e8-a6a3-ec086b02610b.jpg'\n",
            "Destination path 'train_data_in_folders/4/59247a95-23d2-11e8-a6a3-ec086b02610b.jpg' already exists\n",
            "[Errno 2] No such file or directory: './train/59247a95-23d2-11e8-a6a3-ec086b02610b.jpg'\n",
            "[Errno 2] No such file or directory: './train/59247a95-23d2-11e8-a6a3-ec086b02610b.jpg'\n",
            "Destination path 'train_data_in_folders/16/590a101f-23d2-11e8-a6a3-ec086b02610b.jpg' already exists\n",
            "[Errno 2] No such file or directory: './train/590a101f-23d2-11e8-a6a3-ec086b02610b.jpg'\n",
            "[Errno 2] No such file or directory: './train/590a101f-23d2-11e8-a6a3-ec086b02610b.jpg'\n",
            "Destination path 'train_data_in_folders/16/58e0f7e0-23d2-11e8-a6a3-ec086b02610b.jpg' already exists\n",
            "[Errno 2] No such file or directory: './train/58e0f7e0-23d2-11e8-a6a3-ec086b02610b.jpg'\n",
            "[Errno 2] No such file or directory: './train/58e0f7e0-23d2-11e8-a6a3-ec086b02610b.jpg'\n",
            "Destination path 'train_data_in_folders/16/589cb458-23d2-11e8-a6a3-ec086b02610b.jpg' already exists\n",
            "[Errno 2] No such file or directory: './train/589cb458-23d2-11e8-a6a3-ec086b02610b.jpg'\n",
            "[Errno 2] No such file or directory: './train/589cb458-23d2-11e8-a6a3-ec086b02610b.jpg'\n",
            "Destination path 'train_data_in_folders/16/5968bf89-23d2-11e8-a6a3-ec086b02610b.jpg' already exists\n",
            "[Errno 2] No such file or directory: './train/5968bf89-23d2-11e8-a6a3-ec086b02610b.jpg'\n",
            "[Errno 2] No such file or directory: './train/5968bf89-23d2-11e8-a6a3-ec086b02610b.jpg'\n",
            "Destination path 'train_data_in_folders/16/58dabf6d-23d2-11e8-a6a3-ec086b02610b.jpg' already exists\n",
            "[Errno 2] No such file or directory: './train/58dabf6d-23d2-11e8-a6a3-ec086b02610b.jpg'\n",
            "[Errno 2] No such file or directory: './train/58dabf6d-23d2-11e8-a6a3-ec086b02610b.jpg'\n",
            "Destination path 'train_data_in_folders/8/593a4d55-23d2-11e8-a6a3-ec086b02610b.jpg' already exists\n",
            "[Errno 2] No such file or directory: './train/593a4d55-23d2-11e8-a6a3-ec086b02610b.jpg'\n",
            "[Errno 2] No such file or directory: './train/593a4d55-23d2-11e8-a6a3-ec086b02610b.jpg'\n",
            "Destination path 'train_data_in_folders/16/58e281d8-23d2-11e8-a6a3-ec086b02610b.jpg' already exists\n",
            "[Errno 2] No such file or directory: './train/58e281d8-23d2-11e8-a6a3-ec086b02610b.jpg'\n",
            "[Errno 2] No such file or directory: './train/58e281d8-23d2-11e8-a6a3-ec086b02610b.jpg'\n",
            "Destination path 'train_data_in_folders/16/592de58c-23d2-11e8-a6a3-ec086b02610b.jpg' already exists\n",
            "[Errno 2] No such file or directory: './train/592de58c-23d2-11e8-a6a3-ec086b02610b.jpg'\n",
            "[Errno 2] No such file or directory: './train/592de58c-23d2-11e8-a6a3-ec086b02610b.jpg'\n",
            "Destination path 'train_data_in_folders/16/59180953-23d2-11e8-a6a3-ec086b02610b.jpg' already exists\n",
            "[Errno 2] No such file or directory: './train/59180953-23d2-11e8-a6a3-ec086b02610b.jpg'\n",
            "[Errno 2] No such file or directory: './train/59180953-23d2-11e8-a6a3-ec086b02610b.jpg'\n",
            "Destination path 'train_data_in_folders/16/59328bc4-23d2-11e8-a6a3-ec086b02610b.jpg' already exists\n",
            "[Errno 2] No such file or directory: './train/59328bc4-23d2-11e8-a6a3-ec086b02610b.jpg'\n",
            "[Errno 2] No such file or directory: './train/59328bc4-23d2-11e8-a6a3-ec086b02610b.jpg'\n",
            "Destination path 'train_data_in_folders/16/593100d4-23d2-11e8-a6a3-ec086b02610b.jpg' already exists\n",
            "[Errno 2] No such file or directory: './train/593100d4-23d2-11e8-a6a3-ec086b02610b.jpg'\n",
            "[Errno 2] No such file or directory: './train/593100d4-23d2-11e8-a6a3-ec086b02610b.jpg'\n",
            "Destination path 'train_data_in_folders/16/591e421a-23d2-11e8-a6a3-ec086b02610b.jpg' already exists\n",
            "[Errno 2] No such file or directory: './train/591e421a-23d2-11e8-a6a3-ec086b02610b.jpg'\n",
            "[Errno 2] No such file or directory: './train/591e421a-23d2-11e8-a6a3-ec086b02610b.jpg'\n",
            "Destination path 'train_data_in_folders/16/58bea812-23d2-11e8-a6a3-ec086b02610b.jpg' already exists\n",
            "[Errno 2] No such file or directory: './train/58bea812-23d2-11e8-a6a3-ec086b02610b.jpg'\n",
            "[Errno 2] No such file or directory: './train/58bea812-23d2-11e8-a6a3-ec086b02610b.jpg'\n",
            "Destination path 'train_data_in_folders/16/589cb234-23d2-11e8-a6a3-ec086b02610b.jpg' already exists\n",
            "[Errno 2] No such file or directory: './train/589cb234-23d2-11e8-a6a3-ec086b02610b.jpg'\n",
            "[Errno 2] No such file or directory: './train/589cb234-23d2-11e8-a6a3-ec086b02610b.jpg'\n",
            "Destination path 'train_data_in_folders/16/593d6a4b-23d2-11e8-a6a3-ec086b02610b.jpg' already exists\n",
            "[Errno 2] No such file or directory: './train/593d6a4b-23d2-11e8-a6a3-ec086b02610b.jpg'\n",
            "[Errno 2] No such file or directory: './train/593d6a4b-23d2-11e8-a6a3-ec086b02610b.jpg'\n",
            "Destination path 'train_data_in_folders/16/585a6471-23d2-11e8-a6a3-ec086b02610b.jpg' already exists\n",
            "[Errno 2] No such file or directory: './train/585a6471-23d2-11e8-a6a3-ec086b02610b.jpg'\n",
            "[Errno 2] No such file or directory: './train/585a6471-23d2-11e8-a6a3-ec086b02610b.jpg'\n",
            "Destination path 'train_data_in_folders/16/5892b691-23d2-11e8-a6a3-ec086b02610b.jpg' already exists\n",
            "[Errno 2] No such file or directory: './train/5892b691-23d2-11e8-a6a3-ec086b02610b.jpg'\n",
            "[Errno 2] No such file or directory: './train/5892b691-23d2-11e8-a6a3-ec086b02610b.jpg'\n",
            "Destination path 'train_data_in_folders/8/58d930f0-23d2-11e8-a6a3-ec086b02610b.jpg' already exists\n",
            "[Errno 2] No such file or directory: './train/58d930f0-23d2-11e8-a6a3-ec086b02610b.jpg'\n",
            "[Errno 2] No such file or directory: './train/58d930f0-23d2-11e8-a6a3-ec086b02610b.jpg'\n",
            "Destination path 'train_data_in_folders/16/58aa5879-23d2-11e8-a6a3-ec086b02610b.jpg' already exists\n",
            "[Errno 2] No such file or directory: './train/58aa5879-23d2-11e8-a6a3-ec086b02610b.jpg'\n",
            "[Errno 2] No such file or directory: './train/58aa5879-23d2-11e8-a6a3-ec086b02610b.jpg'\n",
            "Destination path 'train_data_in_folders/16/58ac0c49-23d2-11e8-a6a3-ec086b02610b.jpg' already exists\n",
            "[Errno 2] No such file or directory: './train/58ac0c49-23d2-11e8-a6a3-ec086b02610b.jpg'\n",
            "[Errno 2] No such file or directory: './train/58ac0c49-23d2-11e8-a6a3-ec086b02610b.jpg'\n",
            "Destination path 'train_data_in_folders/16/590d2c21-23d2-11e8-a6a3-ec086b02610b.jpg' already exists\n",
            "[Errno 2] No such file or directory: './train/590d2c21-23d2-11e8-a6a3-ec086b02610b.jpg'\n",
            "[Errno 2] No such file or directory: './train/590d2c21-23d2-11e8-a6a3-ec086b02610b.jpg'\n",
            "Destination path 'train_data_in_folders/16/594081c8-23d2-11e8-a6a3-ec086b02610b.jpg' already exists\n",
            "[Errno 2] No such file or directory: './train/594081c8-23d2-11e8-a6a3-ec086b02610b.jpg'\n",
            "[Errno 2] No such file or directory: './train/594081c8-23d2-11e8-a6a3-ec086b02610b.jpg'\n",
            "Destination path 'train_data_in_folders/16/58bb8cc6-23d2-11e8-a6a3-ec086b02610b.jpg' already exists\n",
            "[Errno 2] No such file or directory: './train/58bb8cc6-23d2-11e8-a6a3-ec086b02610b.jpg'\n",
            "[Errno 2] No such file or directory: './train/58bb8cc6-23d2-11e8-a6a3-ec086b02610b.jpg'\n",
            "Destination path 'train_data_in_folders/16/59d750d8-23d2-11e8-a6a3-ec086b02610b.jpg' already exists\n",
            "[Errno 2] No such file or directory: './train/59d750d8-23d2-11e8-a6a3-ec086b02610b.jpg'\n",
            "[Errno 2] No such file or directory: './train/59d750d8-23d2-11e8-a6a3-ec086b02610b.jpg'\n",
            "Destination path 'train_data_in_folders/16/58e40c71-23d2-11e8-a6a3-ec086b02610b.jpg' already exists\n",
            "[Errno 2] No such file or directory: './train/58e40c71-23d2-11e8-a6a3-ec086b02610b.jpg'\n",
            "[Errno 2] No such file or directory: './train/58e40c71-23d2-11e8-a6a3-ec086b02610b.jpg'\n",
            "Destination path 'train_data_in_folders/16/58af7707-23d2-11e8-a6a3-ec086b02610b.jpg' already exists\n",
            "[Errno 2] No such file or directory: './train/58af7707-23d2-11e8-a6a3-ec086b02610b.jpg'\n",
            "[Errno 2] No such file or directory: './train/58af7707-23d2-11e8-a6a3-ec086b02610b.jpg'\n",
            "Destination path 'train_data_in_folders/16/590d2b22-23d2-11e8-a6a3-ec086b02610b.jpg' already exists\n",
            "[Errno 2] No such file or directory: './train/590d2b22-23d2-11e8-a6a3-ec086b02610b.jpg'\n",
            "[Errno 2] No such file or directory: './train/590d2b22-23d2-11e8-a6a3-ec086b02610b.jpg'\n",
            "Destination path 'train_data_in_folders/16/58ede29b-23d2-11e8-a6a3-ec086b02610b.jpg' already exists\n",
            "[Errno 2] No such file or directory: './train/58ede29b-23d2-11e8-a6a3-ec086b02610b.jpg'\n",
            "[Errno 2] No such file or directory: './train/58ede29b-23d2-11e8-a6a3-ec086b02610b.jpg'\n",
            "Destination path 'train_data_in_folders/16/58dabde5-23d2-11e8-a6a3-ec086b02610b.jpg' already exists\n",
            "[Errno 2] No such file or directory: './train/58dabde5-23d2-11e8-a6a3-ec086b02610b.jpg'\n",
            "[Errno 2] No such file or directory: './train/58dabde5-23d2-11e8-a6a3-ec086b02610b.jpg'\n",
            "Destination path 'train_data_in_folders/16/585f4e22-23d2-11e8-a6a3-ec086b02610b.jpg' already exists\n",
            "[Errno 2] No such file or directory: './train/585f4e22-23d2-11e8-a6a3-ec086b02610b.jpg'\n",
            "[Errno 2] No such file or directory: './train/585f4e22-23d2-11e8-a6a3-ec086b02610b.jpg'\n",
            "Destination path 'train_data_in_folders/16/5914f066-23d2-11e8-a6a3-ec086b02610b.jpg' already exists\n",
            "[Errno 2] No such file or directory: './train/5914f066-23d2-11e8-a6a3-ec086b02610b.jpg'\n",
            "[Errno 2] No such file or directory: './train/5914f066-23d2-11e8-a6a3-ec086b02610b.jpg'\n",
            "Destination path 'train_data_in_folders/16/591e415a-23d2-11e8-a6a3-ec086b02610b.jpg' already exists\n",
            "[Errno 2] No such file or directory: './train/591e415a-23d2-11e8-a6a3-ec086b02610b.jpg'\n",
            "[Errno 2] No such file or directory: './train/591e415a-23d2-11e8-a6a3-ec086b02610b.jpg'\n",
            "Destination path 'train_data_in_folders/16/591fd32d-23d2-11e8-a6a3-ec086b02610b.jpg' already exists\n",
            "[Errno 2] No such file or directory: './train/591fd32d-23d2-11e8-a6a3-ec086b02610b.jpg'\n",
            "[Errno 2] No such file or directory: './train/591fd32d-23d2-11e8-a6a3-ec086b02610b.jpg'\n",
            "Destination path 'train_data_in_folders/16/5871845f-23d2-11e8-a6a3-ec086b02610b.jpg' already exists\n",
            "[Errno 2] No such file or directory: './train/5871845f-23d2-11e8-a6a3-ec086b02610b.jpg'\n",
            "[Errno 2] No such file or directory: './train/5871845f-23d2-11e8-a6a3-ec086b02610b.jpg'\n",
            "Destination path 'train_data_in_folders/16/58d61364-23d2-11e8-a6a3-ec086b02610b.jpg' already exists\n",
            "[Errno 2] No such file or directory: './train/58d61364-23d2-11e8-a6a3-ec086b02610b.jpg'\n",
            "[Errno 2] No such file or directory: './train/58d61364-23d2-11e8-a6a3-ec086b02610b.jpg'\n",
            "Destination path 'train_data_in_folders/16/58eaca9d-23d2-11e8-a6a3-ec086b02610b.jpg' already exists\n",
            "[Errno 2] No such file or directory: './train/58eaca9d-23d2-11e8-a6a3-ec086b02610b.jpg'\n",
            "[Errno 2] No such file or directory: './train/58eaca9d-23d2-11e8-a6a3-ec086b02610b.jpg'\n",
            "Destination path 'train_data_in_folders/16/590b9d98-23d2-11e8-a6a3-ec086b02610b.jpg' already exists\n",
            "[Errno 2] No such file or directory: './train/590b9d98-23d2-11e8-a6a3-ec086b02610b.jpg'\n",
            "[Errno 2] No such file or directory: './train/590b9d98-23d2-11e8-a6a3-ec086b02610b.jpg'\n",
            "Destination path 'train_data_in_folders/16/58d16024-23d2-11e8-a6a3-ec086b02610b.jpg' already exists\n",
            "[Errno 2] No such file or directory: './train/58d16024-23d2-11e8-a6a3-ec086b02610b.jpg'\n",
            "[Errno 2] No such file or directory: './train/58d16024-23d2-11e8-a6a3-ec086b02610b.jpg'\n",
            "Destination path 'train_data_in_folders/4/596d6392-23d2-11e8-a6a3-ec086b02610b.jpg' already exists\n",
            "[Errno 2] No such file or directory: './train/596d6392-23d2-11e8-a6a3-ec086b02610b.jpg'\n",
            "[Errno 2] No such file or directory: './train/596d6392-23d2-11e8-a6a3-ec086b02610b.jpg'\n",
            "Destination path 'train_data_in_folders/8/5a1cafac-23d2-11e8-a6a3-ec086b02610b.jpg' already exists\n",
            "[Errno 2] No such file or directory: './train/5a1cafac-23d2-11e8-a6a3-ec086b02610b.jpg'\n",
            "[Errno 2] No such file or directory: './train/5a1cafac-23d2-11e8-a6a3-ec086b02610b.jpg'\n",
            "Destination path 'train_data_in_folders/16/5897b2b9-23d2-11e8-a6a3-ec086b02610b.jpg' already exists\n",
            "[Errno 2] No such file or directory: './train/5897b2b9-23d2-11e8-a6a3-ec086b02610b.jpg'\n",
            "[Errno 2] No such file or directory: './train/5897b2b9-23d2-11e8-a6a3-ec086b02610b.jpg'\n",
            "Destination path 'train_data_in_folders/16/58ac0bde-23d2-11e8-a6a3-ec086b02610b.jpg' already exists\n",
            "[Errno 2] No such file or directory: './train/58ac0bde-23d2-11e8-a6a3-ec086b02610b.jpg'\n",
            "[Errno 2] No such file or directory: './train/58ac0bde-23d2-11e8-a6a3-ec086b02610b.jpg'\n",
            "Destination path 'train_data_in_folders/16/58d6122d-23d2-11e8-a6a3-ec086b02610b.jpg' already exists\n",
            "[Errno 2] No such file or directory: './train/58d6122d-23d2-11e8-a6a3-ec086b02610b.jpg'\n",
            "[Errno 2] No such file or directory: './train/58d6122d-23d2-11e8-a6a3-ec086b02610b.jpg'\n",
            "Destination path 'train_data_in_folders/16/5914f04a-23d2-11e8-a6a3-ec086b02610b.jpg' already exists\n",
            "[Errno 2] No such file or directory: './train/5914f04a-23d2-11e8-a6a3-ec086b02610b.jpg'\n",
            "[Errno 2] No such file or directory: './train/5914f04a-23d2-11e8-a6a3-ec086b02610b.jpg'\n",
            "Destination path 'train_data_in_folders/16/59087f9d-23d2-11e8-a6a3-ec086b02610b.jpg' already exists\n",
            "[Errno 2] No such file or directory: './train/59087f9d-23d2-11e8-a6a3-ec086b02610b.jpg'\n",
            "[Errno 2] No such file or directory: './train/59087f9d-23d2-11e8-a6a3-ec086b02610b.jpg'\n",
            "Destination path 'train_data_in_folders/16/5858c11b-23d2-11e8-a6a3-ec086b02610b.jpg' already exists\n",
            "[Errno 2] No such file or directory: './train/5858c11b-23d2-11e8-a6a3-ec086b02610b.jpg'\n",
            "[Errno 2] No such file or directory: './train/5858c11b-23d2-11e8-a6a3-ec086b02610b.jpg'\n",
            "Destination path 'train_data_in_folders/16/587d4109-23d2-11e8-a6a3-ec086b02610b.jpg' already exists\n",
            "[Errno 2] No such file or directory: './train/587d4109-23d2-11e8-a6a3-ec086b02610b.jpg'\n",
            "[Errno 2] No such file or directory: './train/587d4109-23d2-11e8-a6a3-ec086b02610b.jpg'\n",
            "Destination path 'train_data_in_folders/16/587b7d34-23d2-11e8-a6a3-ec086b02610b.jpg' already exists\n",
            "[Errno 2] No such file or directory: './train/587b7d34-23d2-11e8-a6a3-ec086b02610b.jpg'\n",
            "[Errno 2] No such file or directory: './train/587b7d34-23d2-11e8-a6a3-ec086b02610b.jpg'\n",
            "Destination path 'train_data_in_folders/16/58fa5e6f-23d2-11e8-a6a3-ec086b02610b.jpg' already exists\n",
            "[Errno 2] No such file or directory: './train/58fa5e6f-23d2-11e8-a6a3-ec086b02610b.jpg'\n",
            "[Errno 2] No such file or directory: './train/58fa5e6f-23d2-11e8-a6a3-ec086b02610b.jpg'\n",
            "Destination path 'train_data_in_folders/16/58c1c1f8-23d2-11e8-a6a3-ec086b02610b.jpg' already exists\n",
            "[Errno 2] No such file or directory: './train/58c1c1f8-23d2-11e8-a6a3-ec086b02610b.jpg'\n",
            "[Errno 2] No such file or directory: './train/58c1c1f8-23d2-11e8-a6a3-ec086b02610b.jpg'\n",
            "Destination path 'train_data_in_folders/16/591e430f-23d2-11e8-a6a3-ec086b02610b.jpg' already exists\n",
            "[Errno 2] No such file or directory: './train/591e430f-23d2-11e8-a6a3-ec086b02610b.jpg'\n",
            "[Errno 2] No such file or directory: './train/591e430f-23d2-11e8-a6a3-ec086b02610b.jpg'\n",
            "Destination path 'train_data_in_folders/4/59b2eb3e-23d2-11e8-a6a3-ec086b02610b.jpg' already exists\n",
            "[Errno 2] No such file or directory: './train/59b2eb3e-23d2-11e8-a6a3-ec086b02610b.jpg'\n",
            "[Errno 2] No such file or directory: './train/59b2eb3e-23d2-11e8-a6a3-ec086b02610b.jpg'\n",
            "Destination path 'train_data_in_folders/16/588a65be-23d2-11e8-a6a3-ec086b02610b.jpg' already exists\n",
            "[Errno 2] No such file or directory: './train/588a65be-23d2-11e8-a6a3-ec086b02610b.jpg'\n",
            "[Errno 2] No such file or directory: './train/588a65be-23d2-11e8-a6a3-ec086b02610b.jpg'\n",
            "Destination path 'train_data_in_folders/16/5858c105-23d2-11e8-a6a3-ec086b02610b.jpg' already exists\n",
            "[Errno 2] No such file or directory: './train/5858c105-23d2-11e8-a6a3-ec086b02610b.jpg'\n",
            "[Errno 2] No such file or directory: './train/5858c105-23d2-11e8-a6a3-ec086b02610b.jpg'\n",
            "Destination path 'train_data_in_folders/16/58ef6e02-23d2-11e8-a6a3-ec086b02610b.jpg' already exists\n",
            "[Errno 2] No such file or directory: './train/58ef6e02-23d2-11e8-a6a3-ec086b02610b.jpg'\n",
            "[Errno 2] No such file or directory: './train/58ef6e02-23d2-11e8-a6a3-ec086b02610b.jpg'\n",
            "Destination path 'train_data_in_folders/16/58d614ce-23d2-11e8-a6a3-ec086b02610b.jpg' already exists\n",
            "[Errno 2] No such file or directory: './train/58d614ce-23d2-11e8-a6a3-ec086b02610b.jpg'\n",
            "[Errno 2] No such file or directory: './train/58d614ce-23d2-11e8-a6a3-ec086b02610b.jpg'\n",
            "Destination path 'train_data_in_folders/11/586c89e7-23d2-11e8-a6a3-ec086b02610b.jpg' already exists\n",
            "[Errno 2] No such file or directory: './train/586c89e7-23d2-11e8-a6a3-ec086b02610b.jpg'\n",
            "[Errno 2] No such file or directory: './train/586c89e7-23d2-11e8-a6a3-ec086b02610b.jpg'\n",
            "Destination path 'train_data_in_folders/16/58782acf-23d2-11e8-a6a3-ec086b02610b.jpg' already exists\n",
            "[Errno 2] No such file or directory: './train/58782acf-23d2-11e8-a6a3-ec086b02610b.jpg'\n",
            "[Errno 2] No such file or directory: './train/58782acf-23d2-11e8-a6a3-ec086b02610b.jpg'\n",
            "Destination path 'train_data_in_folders/3/599d7e8c-23d2-11e8-a6a3-ec086b02610b.jpg' already exists\n",
            "[Errno 2] No such file or directory: './train/599d7e8c-23d2-11e8-a6a3-ec086b02610b.jpg'\n",
            "[Errno 2] No such file or directory: './train/599d7e8c-23d2-11e8-a6a3-ec086b02610b.jpg'\n",
            "Destination path 'train_data_in_folders/16/58857dd0-23d2-11e8-a6a3-ec086b02610b.jpg' already exists\n",
            "[Errno 2] No such file or directory: './train/58857dd0-23d2-11e8-a6a3-ec086b02610b.jpg'\n",
            "[Errno 2] No such file or directory: './train/58857dd0-23d2-11e8-a6a3-ec086b02610b.jpg'\n"
          ],
          "name": "stdout"
        }
      ]
    },
    {
      "cell_type": "markdown",
      "metadata": {
        "id": "DGVUa4aLOuHi",
        "colab_type": "text"
      },
      "source": [
        "**Load data from subfolders**"
      ]
    },
    {
      "cell_type": "code",
      "metadata": {
        "id": "Ee3zrFkP_Y6Q",
        "colab_type": "code",
        "outputId": "9ee26234-adba-478f-f963-a91afface9df",
        "colab": {
          "base_uri": "https://localhost:8080/",
          "height": 397
        }
      },
      "source": [
        "train_labels[train_labels.file_name == '58d930f0-23d2-11e8-a6a3-ec086b02610b.jpg']"
      ],
      "execution_count": 23,
      "outputs": [
        {
          "output_type": "execute_result",
          "data": {
            "text/html": [
              "<div>\n",
              "<style scoped>\n",
              "    .dataframe tbody tr th:only-of-type {\n",
              "        vertical-align: middle;\n",
              "    }\n",
              "\n",
              "    .dataframe tbody tr th {\n",
              "        vertical-align: top;\n",
              "    }\n",
              "\n",
              "    .dataframe thead th {\n",
              "        text-align: right;\n",
              "    }\n",
              "</style>\n",
              "<table border=\"1\" class=\"dataframe\">\n",
              "  <thead>\n",
              "    <tr style=\"text-align: right;\">\n",
              "      <th></th>\n",
              "      <th>category_id</th>\n",
              "      <th>date_captured</th>\n",
              "      <th>file_name</th>\n",
              "      <th>frame_num</th>\n",
              "      <th>id</th>\n",
              "      <th>location</th>\n",
              "      <th>rights_holder</th>\n",
              "      <th>seq_id</th>\n",
              "      <th>seq_num_frames</th>\n",
              "      <th>width</th>\n",
              "      <th>height</th>\n",
              "    </tr>\n",
              "  </thead>\n",
              "  <tbody>\n",
              "    <tr>\n",
              "      <th>54243</th>\n",
              "      <td>8</td>\n",
              "      <td>2012-05-23 05:24:12</td>\n",
              "      <td>58d930f0-23d2-11e8-a6a3-ec086b02610b.jpg</td>\n",
              "      <td>2</td>\n",
              "      <td>58d930f0-23d2-11e8-a6a3-ec086b02610b</td>\n",
              "      <td>130</td>\n",
              "      <td>Justin Brown</td>\n",
              "      <td>6f0d87d1-5567-11e8-8daa-dca9047ef277</td>\n",
              "      <td>3</td>\n",
              "      <td>1024</td>\n",
              "      <td>747</td>\n",
              "    </tr>\n",
              "    <tr>\n",
              "      <th>54244</th>\n",
              "      <td>8</td>\n",
              "      <td>2012-05-23 05:24:12</td>\n",
              "      <td>58d930f0-23d2-11e8-a6a3-ec086b02610b.jpg</td>\n",
              "      <td>2</td>\n",
              "      <td>58d930f0-23d2-11e8-a6a3-ec086b02610b</td>\n",
              "      <td>130</td>\n",
              "      <td>Justin Brown</td>\n",
              "      <td>6f0d87d1-5567-11e8-8daa-dca9047ef277</td>\n",
              "      <td>3</td>\n",
              "      <td>1024</td>\n",
              "      <td>747</td>\n",
              "    </tr>\n",
              "    <tr>\n",
              "      <th>54245</th>\n",
              "      <td>16</td>\n",
              "      <td>2012-05-23 05:24:12</td>\n",
              "      <td>58d930f0-23d2-11e8-a6a3-ec086b02610b.jpg</td>\n",
              "      <td>2</td>\n",
              "      <td>58d930f0-23d2-11e8-a6a3-ec086b02610b</td>\n",
              "      <td>130</td>\n",
              "      <td>Justin Brown</td>\n",
              "      <td>6f0d87d1-5567-11e8-8daa-dca9047ef277</td>\n",
              "      <td>3</td>\n",
              "      <td>1024</td>\n",
              "      <td>747</td>\n",
              "    </tr>\n",
              "    <tr>\n",
              "      <th>54246</th>\n",
              "      <td>16</td>\n",
              "      <td>2012-05-23 05:24:12</td>\n",
              "      <td>58d930f0-23d2-11e8-a6a3-ec086b02610b.jpg</td>\n",
              "      <td>2</td>\n",
              "      <td>58d930f0-23d2-11e8-a6a3-ec086b02610b</td>\n",
              "      <td>130</td>\n",
              "      <td>Justin Brown</td>\n",
              "      <td>6f0d87d1-5567-11e8-8daa-dca9047ef277</td>\n",
              "      <td>3</td>\n",
              "      <td>1024</td>\n",
              "      <td>747</td>\n",
              "    </tr>\n",
              "  </tbody>\n",
              "</table>\n",
              "</div>"
            ],
            "text/plain": [
              "       category_id        date_captured  ... width  height\n",
              "54243            8  2012-05-23 05:24:12  ...  1024     747\n",
              "54244            8  2012-05-23 05:24:12  ...  1024     747\n",
              "54245           16  2012-05-23 05:24:12  ...  1024     747\n",
              "54246           16  2012-05-23 05:24:12  ...  1024     747\n",
              "\n",
              "[4 rows x 11 columns]"
            ]
          },
          "metadata": {
            "tags": []
          },
          "execution_count": 23
        }
      ]
    },
    {
      "cell_type": "markdown",
      "metadata": {
        "id": "N3oWwTwDQTBx",
        "colab_type": "text"
      },
      "source": [
        "**Model**"
      ]
    },
    {
      "cell_type": "code",
      "metadata": {
        "id": "prHlpZJR_Yzx",
        "colab_type": "code",
        "colab": {}
      },
      "source": [
        "IMG_DIMS = (100, 100, 3)"
      ],
      "execution_count": 0,
      "outputs": []
    },
    {
      "cell_type": "code",
      "metadata": {
        "id": "_fSLEx3jRUhW",
        "colab_type": "code",
        "colab": {}
      },
      "source": [
        ""
      ],
      "execution_count": 0,
      "outputs": []
    },
    {
      "cell_type": "code",
      "metadata": {
        "id": "WgjhD8nwTQzB",
        "colab_type": "code",
        "colab": {}
      },
      "source": [
        "train_data, valid_data, test_data = ImageDataset.split(\n",
        "    dataset=ImageDataset.from_subfolders('./train_data_in_folders/'),\n",
        "    fracs=(0.8, 0.1, 0.1),\n",
        ")"
      ],
      "execution_count": 0,
      "outputs": []
    },
    {
      "cell_type": "code",
      "metadata": {
        "id": "q712x0o0aLHn",
        "colab_type": "code",
        "outputId": "4c257f4c-e205-4488-eebd-47471f5c1e38",
        "colab": {
          "base_uri": "https://localhost:8080/",
          "height": 34
        }
      },
      "source": [
        "!pwd"
      ],
      "execution_count": 26,
      "outputs": [
        {
          "output_type": "stream",
          "text": [
            "/content/competition_files\n"
          ],
          "name": "stdout"
        }
      ]
    },
    {
      "cell_type": "code",
      "metadata": {
        "id": "Grb3PV89QaO8",
        "colab_type": "code",
        "colab": {}
      },
      "source": [
        "train_data = (\n",
        "    train_data\n",
        "    .dataset(batch_size=32, img_dims=IMG_DIMS, shuffle=True)\n",
        "    .make_pipeline(\n",
        "        image_pipeline=[\n",
        "            ImageParser(),\n",
        "            ImageResizer(img_dims=IMG_DIMS, resize=\"crop\", crop_adjustment=1),\n",
        "            ImageAugmentor(level=3, flips=\"both\"),\n",
        "        ],\n",
        "    )\n",
        "    .save_pipeline('./train_files')\n",
        "    .preprocess()\n",
        ")"
      ],
      "execution_count": 0,
      "outputs": []
    },
    {
      "cell_type": "code",
      "metadata": {
        "id": "nA1WEX5MQaeL",
        "colab_type": "code",
        "colab": {}
      },
      "source": [
        "valid_data = (\n",
        "    valid_data\n",
        "    .dataset(batch_size=1, img_dims=IMG_DIMS, shuffle=False)\n",
        "    .make_pipeline(\n",
        "        label_map=train_data.label_map,\n",
        "        image_pipeline=[\n",
        "            ImageParser(),\n",
        "            ImageResizer(img_dims=IMG_DIMS, resize=\"stretch\"),\n",
        "        ],\n",
        "    )\n",
        "    .save_pipeline('./valid_files')\n",
        "    .preprocess()\n",
        ")"
      ],
      "execution_count": 0,
      "outputs": []
    },
    {
      "cell_type": "code",
      "metadata": {
        "id": "yTw1MyNcQamf",
        "colab_type": "code",
        "colab": {}
      },
      "source": [
        "test_data = (\n",
        "    test_data\n",
        "    .dataset(batch_size=1, img_dims=IMG_DIMS, shuffle=False)\n",
        "    .load_pipeline('./valid_files')\n",
        "    .preprocess()\n",
        ")"
      ],
      "execution_count": 0,
      "outputs": []
    },
    {
      "cell_type": "code",
      "metadata": {
        "id": "oeKvPvaBQasT",
        "colab_type": "code",
        "outputId": "7c3656af-725f-461f-dcaa-dbb38052ebff",
        "colab": {
          "base_uri": "https://localhost:8080/",
          "height": 255
        }
      },
      "source": [
        "train_data.label_map"
      ],
      "execution_count": 30,
      "outputs": [
        {
          "output_type": "execute_result",
          "data": {
            "text/plain": [
              "{'0': 0,\n",
              " '1': 1,\n",
              " '10': 2,\n",
              " '11': 3,\n",
              " '13': 4,\n",
              " '14': 5,\n",
              " '16': 6,\n",
              " '17': 7,\n",
              " '18': 8,\n",
              " '19': 9,\n",
              " '22': 10,\n",
              " '3': 11,\n",
              " '4': 12,\n",
              " '8': 13}"
            ]
          },
          "metadata": {
            "tags": []
          },
          "execution_count": 30
        }
      ]
    },
    {
      "cell_type": "code",
      "metadata": {
        "id": "GP10vSJeeneM",
        "colab_type": "code",
        "outputId": "2dd9e06e-4aa0-4996-fb5a-df5c1e694535",
        "colab": {
          "base_uri": "https://localhost:8080/",
          "height": 255
        }
      },
      "source": [
        "valid_data.label_map"
      ],
      "execution_count": 31,
      "outputs": [
        {
          "output_type": "execute_result",
          "data": {
            "text/plain": [
              "{'0': 0,\n",
              " '1': 1,\n",
              " '10': 2,\n",
              " '11': 3,\n",
              " '13': 4,\n",
              " '14': 5,\n",
              " '16': 6,\n",
              " '17': 7,\n",
              " '18': 8,\n",
              " '19': 9,\n",
              " '22': 10,\n",
              " '3': 11,\n",
              " '4': 12,\n",
              " '8': 13}"
            ]
          },
          "metadata": {
            "tags": []
          },
          "execution_count": 31
        }
      ]
    },
    {
      "cell_type": "code",
      "metadata": {
        "id": "Uwh_TvHoQa1A",
        "colab_type": "code",
        "outputId": "2ef005d1-820b-4400-b0aa-067cdfbebb75",
        "colab": {
          "base_uri": "https://localhost:8080/",
          "height": 255
        }
      },
      "source": [
        "test_data.label_map"
      ],
      "execution_count": 32,
      "outputs": [
        {
          "output_type": "execute_result",
          "data": {
            "text/plain": [
              "{'0': 0,\n",
              " '1': 1,\n",
              " '10': 2,\n",
              " '11': 3,\n",
              " '13': 4,\n",
              " '14': 5,\n",
              " '16': 6,\n",
              " '17': 7,\n",
              " '18': 8,\n",
              " '19': 9,\n",
              " '22': 10,\n",
              " '3': 11,\n",
              " '4': 12,\n",
              " '8': 13}"
            ]
          },
          "metadata": {
            "tags": []
          },
          "execution_count": 32
        }
      ]
    },
    {
      "cell_type": "code",
      "metadata": {
        "id": "vEv8JFRmQa5a",
        "colab_type": "code",
        "outputId": "2b87e280-45c7-400a-fa3d-20c13e21a24d",
        "colab": {
          "base_uri": "https://localhost:8080/",
          "height": 34
        }
      },
      "source": [
        "len(train_data), len(valid_data), len(test_data)"
      ],
      "execution_count": 33,
      "outputs": [
        {
          "output_type": "execute_result",
          "data": {
            "text/plain": [
              "(156869, 19609, 19608)"
            ]
          },
          "metadata": {
            "tags": []
          },
          "execution_count": 33
        }
      ]
    },
    {
      "cell_type": "code",
      "metadata": {
        "id": "vP75jBmEQa8b",
        "colab_type": "code",
        "colab": {}
      },
      "source": [
        "data_container = DataContainer(\n",
        "    train=train_data,\n",
        "    validation=valid_data,\n",
        "    test=test_data,\n",
        ")"
      ],
      "execution_count": 0,
      "outputs": []
    },
    {
      "cell_type": "code",
      "metadata": {
        "id": "E2hYhUWnQazP",
        "colab_type": "code",
        "colab": {}
      },
      "source": [
        "#data_container.train.show(debug=True)"
      ],
      "execution_count": 0,
      "outputs": []
    },
    {
      "cell_type": "code",
      "metadata": {
        "id": "VQaoiu4we2hz",
        "colab_type": "code",
        "colab": {}
      },
      "source": [
        "#data_container.validation.show()"
      ],
      "execution_count": 0,
      "outputs": []
    },
    {
      "cell_type": "code",
      "metadata": {
        "id": "0WSI0c5ce2up",
        "colab_type": "code",
        "colab": {}
      },
      "source": [
        "#data_container.test.show()"
      ],
      "execution_count": 0,
      "outputs": []
    },
    {
      "cell_type": "code",
      "metadata": {
        "id": "HsMNyk-Ne23l",
        "colab_type": "code",
        "outputId": "f99f97ee-e83b-4742-fed2-6e1a42b7ee52",
        "colab": {
          "base_uri": "https://localhost:8080/",
          "height": 71
        }
      },
      "source": [
        "learner_xception = ImageLearner(\n",
        "    path='./Xception',\n",
        "    base_model=keras.applications.Xception,\n",
        "    input_shape=(IMG_DIMS),\n",
        "    output_shape=[data_container.train.n_classes],\n",
        "    activation=keras.activations.softmax,\n",
        "    loss=keras.losses.sparse_categorical_crossentropy,\n",
        "    metrics=[keras.metrics.sparse_categorical_accuracy, sparse_top_2_categorical_accuracy],\n",
        "    dropout=0.5,\n",
        "    l1=3e-6,\n",
        "    l2=3e-5,\n",
        "    load=True,\n",
        ")"
      ],
      "execution_count": 38,
      "outputs": [
        {
          "output_type": "stream",
          "text": [
            "Downloading data from https://github.com/fchollet/deep-learning-models/releases/download/v0.4/xception_weights_tf_dim_ordering_tf_kernels_notop.h5\n",
            "83689472/83683744 [==============================] - 1s 0us/step\n"
          ],
          "name": "stdout"
        }
      ]
    },
    {
      "cell_type": "code",
      "metadata": {
        "id": "6vcQfCmqe29a",
        "colab_type": "code",
        "colab": {}
      },
      "source": [
        "trainer = ImageTrainer(\n",
        "    learner=learner_xception,\n",
        "    data_container=data_container,\n",
        "    steps=[\n",
        "            ImageTrainingStep(\n",
        "        n_epochs=10,\n",
        "        lr=3e-5,\n",
        "        optimizer=keras.optimizers.Adam,\n",
        "        feature_pipeline=[\n",
        "            ImageParser(),\n",
        "            ImageResizer(img_dims=IMG_DIMS, resize=\"stretch\"),\n",
        "            ImageAugmentor(level=1),\n",
        "        ],\n",
        "    ),\n",
        "    ],\n",
        ")"
      ],
      "execution_count": 0,
      "outputs": []
    },
    {
      "cell_type": "code",
      "metadata": {
        "id": "C-EfdMmJtcNS",
        "colab_type": "code",
        "outputId": "b134db6f-e98c-4ea1-fad6-84ccd51fd91b",
        "colab": {
          "base_uri": "https://localhost:8080/",
          "height": 411
        }
      },
      "source": [
        "trainer.train()"
      ],
      "execution_count": 40,
      "outputs": [
        {
          "output_type": "stream",
          "text": [
            "Train for 4903 steps, validate for 19609 steps\n",
            "Epoch 1/10\n",
            "4903/4903 [==============================] - 2516s 513ms/step - loss: 0.8933 - sparse_categorical_accuracy: 0.7746 - sparse_top_2_categorical_accuracy: 0.8450 - val_loss: 0.4566 - val_sparse_categorical_accuracy: 0.8638 - val_sparse_top_2_categorical_accuracy: 0.9265\n",
            "Epoch 2/10\n",
            "4903/4903 [==============================] - 1668s 340ms/step - loss: 0.4223 - sparse_categorical_accuracy: 0.8713 - sparse_top_2_categorical_accuracy: 0.9343 - val_loss: 0.7374 - val_sparse_categorical_accuracy: 0.8575 - val_sparse_top_2_categorical_accuracy: 0.9170\n",
            "Epoch 3/10\n",
            "4903/4903 [==============================] - 1678s 342ms/step - loss: 0.2847 - sparse_categorical_accuracy: 0.9089 - sparse_top_2_categorical_accuracy: 0.9611 - val_loss: 0.3604 - val_sparse_categorical_accuracy: 0.8947 - val_sparse_top_2_categorical_accuracy: 0.9483\n",
            "Epoch 4/10\n",
            "4903/4903 [==============================] - 1667s 340ms/step - loss: 0.2120 - sparse_categorical_accuracy: 0.9316 - sparse_top_2_categorical_accuracy: 0.9741 - val_loss: 0.3516 - val_sparse_categorical_accuracy: 0.9045 - val_sparse_top_2_categorical_accuracy: 0.9566\n",
            "Epoch 5/10\n",
            "4903/4903 [==============================] - 1662s 339ms/step - loss: 0.1672 - sparse_categorical_accuracy: 0.9452 - sparse_top_2_categorical_accuracy: 0.9814 - val_loss: 0.2496 - val_sparse_categorical_accuracy: 0.9255 - val_sparse_top_2_categorical_accuracy: 0.9705\n",
            "Epoch 6/10\n",
            "4903/4903 [==============================] - 1667s 340ms/step - loss: 0.1374 - sparse_categorical_accuracy: 0.9557 - sparse_top_2_categorical_accuracy: 0.9861 - val_loss: 0.2863 - val_sparse_categorical_accuracy: 0.9271 - val_sparse_top_2_categorical_accuracy: 0.9685\n",
            "Epoch 7/10\n",
            "4903/4903 [==============================] - 1679s 342ms/step - loss: 0.1164 - sparse_categorical_accuracy: 0.9622 - sparse_top_2_categorical_accuracy: 0.9893 - val_loss: 0.4798 - val_sparse_categorical_accuracy: 0.9213 - val_sparse_top_2_categorical_accuracy: 0.9632\n",
            "Epoch 8/10\n",
            "4903/4903 [==============================] - 1668s 340ms/step - loss: 0.0696 - sparse_categorical_accuracy: 0.9773 - sparse_top_2_categorical_accuracy: 0.9951 - val_loss: 0.4656 - val_sparse_categorical_accuracy: 0.9330 - val_sparse_top_2_categorical_accuracy: 0.9696\n",
            "Epoch 9/10\n",
            "4903/4903 [==============================] - 1667s 340ms/step - loss: 0.0579 - sparse_categorical_accuracy: 0.9808 - sparse_top_2_categorical_accuracy: 0.9963 - val_loss: 0.9747 - val_sparse_categorical_accuracy: 0.9249 - val_sparse_top_2_categorical_accuracy: 0.9629\n",
            "--------------------------------------------------------------------------------\n",
            "Name: xception Train Time: 264.6 min. Eval Time: 329.04s Loss: 0.2496 Accuracy: 92.55%\n",
            "--------------------------------------------------------------------------------\n"
          ],
          "name": "stdout"
        }
      ]
    },
    {
      "cell_type": "code",
      "metadata": {
        "id": "D0lxnG5SDLTt",
        "colab_type": "code",
        "outputId": "dd82e46c-c246-4c4a-e1ef-d977560b3d5d",
        "colab": {
          "base_uri": "https://localhost:8080/",
          "height": 71
        }
      },
      "source": [
        "trainer.evaluate_dataset()"
      ],
      "execution_count": 41,
      "outputs": [
        {
          "output_type": "stream",
          "text": [
            "19609/19609 [==============================] - 336s 17ms/step - loss: 0.2496 - sparse_categorical_accuracy: 0.9255 - sparse_top_2_categorical_accuracy: 0.9705\n"
          ],
          "name": "stdout"
        },
        {
          "output_type": "execute_result",
          "data": {
            "text/plain": [
              "[0.2496061964247681, 0.9254934, 0.9705237]"
            ]
          },
          "metadata": {
            "tags": []
          },
          "execution_count": 41
        }
      ]
    },
    {
      "cell_type": "code",
      "metadata": {
        "id": "HX_owzRbHUVy",
        "colab_type": "code",
        "outputId": "be962fcc-fc7c-4a55-8d75-853f5395aa5e",
        "colab": {
          "base_uri": "https://localhost:8080/",
          "height": 238
        }
      },
      "source": [
        "trainer.predict_dataset()"
      ],
      "execution_count": 42,
      "outputs": [
        {
          "output_type": "execute_result",
          "data": {
            "text/plain": [
              "array([[1.9806159e-01, 2.6672569e-04, 1.2769988e-04, ..., 3.0102677e-04,\n",
              "        1.0660567e-03, 1.0610427e-03],\n",
              "       [1.3429603e-04, 2.2704693e-04, 2.8346459e-04, ..., 2.2895604e-04,\n",
              "        1.7817719e-03, 4.4818101e-03],\n",
              "       [9.9989545e-01, 5.4816219e-06, 4.1931039e-06, ..., 2.2651089e-05,\n",
              "        1.1633425e-05, 2.3497027e-05],\n",
              "       ...,\n",
              "       [9.9980825e-01, 3.0459900e-05, 1.5767733e-05, ..., 3.2395314e-05,\n",
              "        2.8783215e-05, 1.7015866e-05],\n",
              "       [4.1828245e-02, 4.1348166e-03, 1.8093910e-03, ..., 1.6297715e-03,\n",
              "        3.9462787e-03, 1.8624712e-02],\n",
              "       [6.5587187e-04, 1.8090500e-04, 2.1232374e-04, ..., 3.0742399e-04,\n",
              "        1.1657493e-04, 1.2717665e-04]], dtype=float32)"
            ]
          },
          "metadata": {
            "tags": []
          },
          "execution_count": 42
        }
      ]
    },
    {
      "cell_type": "code",
      "metadata": {
        "id": "Fx6b_HKVHYog",
        "colab_type": "code",
        "outputId": "6df319ad-2011-4320-e648-9bba835b0218",
        "colab": {
          "base_uri": "https://localhost:8080/",
          "height": 1000
        }
      },
      "source": [
        "trainer.analyse_dataset()"
      ],
      "execution_count": 43,
      "outputs": [
        {
          "output_type": "execute_result",
          "data": {
            "text/html": [
              "<div>\n",
              "<style scoped>\n",
              "    .dataframe tbody tr th:only-of-type {\n",
              "        vertical-align: middle;\n",
              "    }\n",
              "\n",
              "    .dataframe tbody tr th {\n",
              "        vertical-align: top;\n",
              "    }\n",
              "\n",
              "    .dataframe thead th {\n",
              "        text-align: right;\n",
              "    }\n",
              "</style>\n",
              "<table border=\"1\" class=\"dataframe\">\n",
              "  <thead>\n",
              "    <tr style=\"text-align: right;\">\n",
              "      <th></th>\n",
              "      <th>path</th>\n",
              "      <th>image</th>\n",
              "      <th>label</th>\n",
              "      <th>label_code</th>\n",
              "      <th>pred</th>\n",
              "      <th>pred_code</th>\n",
              "      <th>label_probs</th>\n",
              "      <th>pred_probs</th>\n",
              "    </tr>\n",
              "  </thead>\n",
              "  <tbody>\n",
              "    <tr>\n",
              "      <th>0</th>\n",
              "      <td>train_data_in_folders/19/5a1b1528-23d2-11e8-a6...</td>\n",
              "      <td>[[[0.0, 0.0, 0.0], [0.0, 0.0, 0.0], [0.0715293...</td>\n",
              "      <td>19</td>\n",
              "      <td>9</td>\n",
              "      <td>19</td>\n",
              "      <td>9</td>\n",
              "      <td>0.537715</td>\n",
              "      <td>0.537715</td>\n",
              "    </tr>\n",
              "    <tr>\n",
              "      <th>1</th>\n",
              "      <td>train_data_in_folders/11/59941e4d-23d2-11e8-a6...</td>\n",
              "      <td>[[[0.0, 0.0, 0.0], [0.0, 0.0, 0.0], [0.0715293...</td>\n",
              "      <td>11</td>\n",
              "      <td>3</td>\n",
              "      <td>13</td>\n",
              "      <td>4</td>\n",
              "      <td>0.003452</td>\n",
              "      <td>0.942632</td>\n",
              "    </tr>\n",
              "    <tr>\n",
              "      <th>2</th>\n",
              "      <td>train_data_in_folders/0/589609ef-23d2-11e8-a6a...</td>\n",
              "      <td>[[[0.0, 0.0, 0.0], [0.0, 0.0, 0.0], [0.0715293...</td>\n",
              "      <td>0</td>\n",
              "      <td>0</td>\n",
              "      <td>0</td>\n",
              "      <td>0</td>\n",
              "      <td>0.999895</td>\n",
              "      <td>0.999895</td>\n",
              "    </tr>\n",
              "    <tr>\n",
              "      <th>3</th>\n",
              "      <td>train_data_in_folders/0/58e40ecf-23d2-11e8-a6a...</td>\n",
              "      <td>[[[0.0, 0.0, 0.0], [0.0, 0.0, 0.0], [0.0715293...</td>\n",
              "      <td>0</td>\n",
              "      <td>0</td>\n",
              "      <td>0</td>\n",
              "      <td>0</td>\n",
              "      <td>0.988748</td>\n",
              "      <td>0.988748</td>\n",
              "    </tr>\n",
              "    <tr>\n",
              "      <th>4</th>\n",
              "      <td>train_data_in_folders/0/596a4eef-23d2-11e8-a6a...</td>\n",
              "      <td>[[[0.0, 0.0, 0.0], [0.0, 0.0, 0.0], [0.0715293...</td>\n",
              "      <td>0</td>\n",
              "      <td>0</td>\n",
              "      <td>0</td>\n",
              "      <td>0</td>\n",
              "      <td>0.999294</td>\n",
              "      <td>0.999294</td>\n",
              "    </tr>\n",
              "    <tr>\n",
              "      <th>5</th>\n",
              "      <td>train_data_in_folders/0/58e598f5-23d2-11e8-a6a...</td>\n",
              "      <td>[[[0.0, 0.0, 0.0], [0.0, 0.0, 0.0], [0.0715293...</td>\n",
              "      <td>0</td>\n",
              "      <td>0</td>\n",
              "      <td>0</td>\n",
              "      <td>0</td>\n",
              "      <td>0.999887</td>\n",
              "      <td>0.999887</td>\n",
              "    </tr>\n",
              "    <tr>\n",
              "      <th>6</th>\n",
              "      <td>train_data_in_folders/19/586fdd79-23d2-11e8-a6...</td>\n",
              "      <td>[[[0.0, 0.0, 0.0], [0.0, 0.0, 0.0], [0.0715293...</td>\n",
              "      <td>19</td>\n",
              "      <td>9</td>\n",
              "      <td>19</td>\n",
              "      <td>9</td>\n",
              "      <td>0.998742</td>\n",
              "      <td>0.998742</td>\n",
              "    </tr>\n",
              "    <tr>\n",
              "      <th>7</th>\n",
              "      <td>train_data_in_folders/8/595addc1-23d2-11e8-a6a...</td>\n",
              "      <td>[[[0.0, 0.0, 0.0], [0.0, 0.0, 0.0], [0.0793725...</td>\n",
              "      <td>8</td>\n",
              "      <td>13</td>\n",
              "      <td>4</td>\n",
              "      <td>12</td>\n",
              "      <td>0.000176</td>\n",
              "      <td>0.983095</td>\n",
              "    </tr>\n",
              "    <tr>\n",
              "      <th>8</th>\n",
              "      <td>train_data_in_folders/0/58c66444-23d2-11e8-a6a...</td>\n",
              "      <td>[[[0.0, 0.0, 0.0], [0.0, 0.0, 0.0], [0.0793725...</td>\n",
              "      <td>0</td>\n",
              "      <td>0</td>\n",
              "      <td>0</td>\n",
              "      <td>0</td>\n",
              "      <td>0.999788</td>\n",
              "      <td>0.999788</td>\n",
              "    </tr>\n",
              "    <tr>\n",
              "      <th>9</th>\n",
              "      <td>train_data_in_folders/0/59fae537-23d2-11e8-a6a...</td>\n",
              "      <td>[[[0.0, 0.0, 0.0], [0.0, 0.0, 0.0], [0.0715293...</td>\n",
              "      <td>0</td>\n",
              "      <td>0</td>\n",
              "      <td>0</td>\n",
              "      <td>0</td>\n",
              "      <td>0.999516</td>\n",
              "      <td>0.999516</td>\n",
              "    </tr>\n",
              "    <tr>\n",
              "      <th>10</th>\n",
              "      <td>train_data_in_folders/0/5883e897-23d2-11e8-a6a...</td>\n",
              "      <td>[[[0.0, 0.0, 0.0], [0.0, 0.0, 0.0], [0.0793725...</td>\n",
              "      <td>0</td>\n",
              "      <td>0</td>\n",
              "      <td>0</td>\n",
              "      <td>0</td>\n",
              "      <td>0.999458</td>\n",
              "      <td>0.999458</td>\n",
              "    </tr>\n",
              "    <tr>\n",
              "      <th>11</th>\n",
              "      <td>train_data_in_folders/16/598dea0a-23d2-11e8-a6...</td>\n",
              "      <td>[[[0.0, 0.0, 0.0], [0.0, 0.0, 0.0], [0.0, 0.0,...</td>\n",
              "      <td>16</td>\n",
              "      <td>6</td>\n",
              "      <td>16</td>\n",
              "      <td>6</td>\n",
              "      <td>0.875250</td>\n",
              "      <td>0.875250</td>\n",
              "    </tr>\n",
              "    <tr>\n",
              "      <th>12</th>\n",
              "      <td>train_data_in_folders/0/59be3f56-23d2-11e8-a6a...</td>\n",
              "      <td>[[[0.0, 0.0, 0.0], [0.0, 0.0, 0.0], [0.0715293...</td>\n",
              "      <td>0</td>\n",
              "      <td>0</td>\n",
              "      <td>19</td>\n",
              "      <td>9</td>\n",
              "      <td>0.010717</td>\n",
              "      <td>0.499267</td>\n",
              "    </tr>\n",
              "    <tr>\n",
              "      <th>13</th>\n",
              "      <td>train_data_in_folders/0/5968c191-23d2-11e8-a6a...</td>\n",
              "      <td>[[[0.0, 0.0, 0.0], [0.0, 0.0, 0.0], [0.0715293...</td>\n",
              "      <td>0</td>\n",
              "      <td>0</td>\n",
              "      <td>0</td>\n",
              "      <td>0</td>\n",
              "      <td>0.999791</td>\n",
              "      <td>0.999791</td>\n",
              "    </tr>\n",
              "    <tr>\n",
              "      <th>14</th>\n",
              "      <td>train_data_in_folders/19/5a1e50a0-23d2-11e8-a6...</td>\n",
              "      <td>[[[0.0, 0.0, 0.0], [0.0, 0.0, 0.0], [0.0715293...</td>\n",
              "      <td>19</td>\n",
              "      <td>9</td>\n",
              "      <td>17</td>\n",
              "      <td>7</td>\n",
              "      <td>0.224840</td>\n",
              "      <td>0.750339</td>\n",
              "    </tr>\n",
              "    <tr>\n",
              "      <th>15</th>\n",
              "      <td>train_data_in_folders/0/5a24a879-23d2-11e8-a6a...</td>\n",
              "      <td>[[[0.0, 0.0, 0.0], [0.0, 0.0, 0.0], [0.0715293...</td>\n",
              "      <td>0</td>\n",
              "      <td>0</td>\n",
              "      <td>0</td>\n",
              "      <td>0</td>\n",
              "      <td>0.999456</td>\n",
              "      <td>0.999456</td>\n",
              "    </tr>\n",
              "    <tr>\n",
              "      <th>16</th>\n",
              "      <td>train_data_in_folders/1/5a197a8c-23d2-11e8-a6a...</td>\n",
              "      <td>[[[0.007843138, 0.0, 0.019607844], [0.02839215...</td>\n",
              "      <td>1</td>\n",
              "      <td>1</td>\n",
              "      <td>1</td>\n",
              "      <td>1</td>\n",
              "      <td>0.999106</td>\n",
              "      <td>0.999106</td>\n",
              "    </tr>\n",
              "    <tr>\n",
              "      <th>17</th>\n",
              "      <td>train_data_in_folders/0/58e0f4cf-23d2-11e8-a6a...</td>\n",
              "      <td>[[[0.0, 0.0, 0.0], [0.0, 0.0, 0.0], [0.0715293...</td>\n",
              "      <td>0</td>\n",
              "      <td>0</td>\n",
              "      <td>0</td>\n",
              "      <td>0</td>\n",
              "      <td>0.996379</td>\n",
              "      <td>0.996379</td>\n",
              "    </tr>\n",
              "    <tr>\n",
              "      <th>18</th>\n",
              "      <td>train_data_in_folders/0/5874d3e0-23d2-11e8-a6a...</td>\n",
              "      <td>[[[0.0, 0.0, 0.0], [0.0, 0.0, 0.0], [0.0715293...</td>\n",
              "      <td>0</td>\n",
              "      <td>0</td>\n",
              "      <td>0</td>\n",
              "      <td>0</td>\n",
              "      <td>1.000000</td>\n",
              "      <td>1.000000</td>\n",
              "    </tr>\n",
              "    <tr>\n",
              "      <th>19</th>\n",
              "      <td>train_data_in_folders/19/5a14a720-23d2-11e8-a6...</td>\n",
              "      <td>[[[0.0, 0.0, 0.0], [0.0, 0.0, 0.0], [0.0715293...</td>\n",
              "      <td>19</td>\n",
              "      <td>9</td>\n",
              "      <td>19</td>\n",
              "      <td>9</td>\n",
              "      <td>0.913095</td>\n",
              "      <td>0.913095</td>\n",
              "    </tr>\n",
              "    <tr>\n",
              "      <th>20</th>\n",
              "      <td>train_data_in_folders/0/5956361e-23d2-11e8-a6a...</td>\n",
              "      <td>[[[0.0, 0.0, 0.0], [0.0, 0.0, 0.0], [0.0715293...</td>\n",
              "      <td>0</td>\n",
              "      <td>0</td>\n",
              "      <td>0</td>\n",
              "      <td>0</td>\n",
              "      <td>0.999369</td>\n",
              "      <td>0.999369</td>\n",
              "    </tr>\n",
              "    <tr>\n",
              "      <th>21</th>\n",
              "      <td>train_data_in_folders/0/5a130a4d-23d2-11e8-a6a...</td>\n",
              "      <td>[[[0.0, 0.0, 0.0], [0.0, 0.0, 0.0], [0.0715293...</td>\n",
              "      <td>0</td>\n",
              "      <td>0</td>\n",
              "      <td>0</td>\n",
              "      <td>0</td>\n",
              "      <td>0.999827</td>\n",
              "      <td>0.999827</td>\n",
              "    </tr>\n",
              "    <tr>\n",
              "      <th>22</th>\n",
              "      <td>train_data_in_folders/19/58adc1b8-23d2-11e8-a6...</td>\n",
              "      <td>[[[0.0, 0.0, 0.0], [0.0, 0.0, 0.0], [0.0715293...</td>\n",
              "      <td>19</td>\n",
              "      <td>9</td>\n",
              "      <td>19</td>\n",
              "      <td>9</td>\n",
              "      <td>0.521979</td>\n",
              "      <td>0.521979</td>\n",
              "    </tr>\n",
              "    <tr>\n",
              "      <th>23</th>\n",
              "      <td>train_data_in_folders/13/59420fa5-23d2-11e8-a6...</td>\n",
              "      <td>[[[0.0, 0.0, 0.0], [0.0, 0.0, 0.0], [0.0715293...</td>\n",
              "      <td>13</td>\n",
              "      <td>4</td>\n",
              "      <td>13</td>\n",
              "      <td>4</td>\n",
              "      <td>0.999923</td>\n",
              "      <td>0.999923</td>\n",
              "    </tr>\n",
              "    <tr>\n",
              "      <th>24</th>\n",
              "      <td>train_data_in_folders/16/59d41ac8-23d2-11e8-a6...</td>\n",
              "      <td>[[[0.0, 0.0, 0.0], [0.0, 0.0, 0.0], [0.0715293...</td>\n",
              "      <td>16</td>\n",
              "      <td>6</td>\n",
              "      <td>19</td>\n",
              "      <td>9</td>\n",
              "      <td>0.015494</td>\n",
              "      <td>0.842220</td>\n",
              "    </tr>\n",
              "    <tr>\n",
              "      <th>25</th>\n",
              "      <td>train_data_in_folders/0/5976a5a6-23d2-11e8-a6a...</td>\n",
              "      <td>[[[0.0, 0.0, 0.0], [0.0, 0.0, 0.0], [0.0715293...</td>\n",
              "      <td>0</td>\n",
              "      <td>0</td>\n",
              "      <td>0</td>\n",
              "      <td>0</td>\n",
              "      <td>0.996258</td>\n",
              "      <td>0.996258</td>\n",
              "    </tr>\n",
              "    <tr>\n",
              "      <th>26</th>\n",
              "      <td>train_data_in_folders/0/591367f0-23d2-11e8-a6a...</td>\n",
              "      <td>[[[0.0, 0.0, 0.0], [0.0, 0.0, 0.0], [0.0715293...</td>\n",
              "      <td>0</td>\n",
              "      <td>0</td>\n",
              "      <td>0</td>\n",
              "      <td>0</td>\n",
              "      <td>0.999559</td>\n",
              "      <td>0.999559</td>\n",
              "    </tr>\n",
              "    <tr>\n",
              "      <th>27</th>\n",
              "      <td>train_data_in_folders/0/59d27b39-23d2-11e8-a6a...</td>\n",
              "      <td>[[[0.0, 0.0, 0.0], [0.0, 0.0, 0.0], [0.0715293...</td>\n",
              "      <td>0</td>\n",
              "      <td>0</td>\n",
              "      <td>0</td>\n",
              "      <td>0</td>\n",
              "      <td>0.737521</td>\n",
              "      <td>0.737521</td>\n",
              "    </tr>\n",
              "    <tr>\n",
              "      <th>28</th>\n",
              "      <td>train_data_in_folders/0/59b615db-23d2-11e8-a6a...</td>\n",
              "      <td>[[[0.0, 0.0, 0.0], [0.0, 0.0, 0.0], [0.0715293...</td>\n",
              "      <td>0</td>\n",
              "      <td>0</td>\n",
              "      <td>0</td>\n",
              "      <td>0</td>\n",
              "      <td>0.999350</td>\n",
              "      <td>0.999350</td>\n",
              "    </tr>\n",
              "    <tr>\n",
              "      <th>29</th>\n",
              "      <td>train_data_in_folders/19/59dc2568-23d2-11e8-a6...</td>\n",
              "      <td>[[[0.0, 0.0, 0.0], [0.0, 0.0, 0.0], [0.0715293...</td>\n",
              "      <td>19</td>\n",
              "      <td>9</td>\n",
              "      <td>19</td>\n",
              "      <td>9</td>\n",
              "      <td>0.569603</td>\n",
              "      <td>0.569603</td>\n",
              "    </tr>\n",
              "    <tr>\n",
              "      <th>...</th>\n",
              "      <td>...</td>\n",
              "      <td>...</td>\n",
              "      <td>...</td>\n",
              "      <td>...</td>\n",
              "      <td>...</td>\n",
              "      <td>...</td>\n",
              "      <td>...</td>\n",
              "      <td>...</td>\n",
              "    </tr>\n",
              "    <tr>\n",
              "      <th>19579</th>\n",
              "      <td>train_data_in_folders/0/59ddbfdb-23d2-11e8-a6a...</td>\n",
              "      <td>[[[0.0, 0.0, 0.0], [0.0, 0.0, 0.0], [0.0715293...</td>\n",
              "      <td>0</td>\n",
              "      <td>0</td>\n",
              "      <td>0</td>\n",
              "      <td>0</td>\n",
              "      <td>0.998918</td>\n",
              "      <td>0.998918</td>\n",
              "    </tr>\n",
              "    <tr>\n",
              "      <th>19580</th>\n",
              "      <td>train_data_in_folders/1/59a49b5b-23d2-11e8-a6a...</td>\n",
              "      <td>[[[0.0, 0.0, 0.0], [0.0, 0.0, 0.0], [0.0793725...</td>\n",
              "      <td>1</td>\n",
              "      <td>1</td>\n",
              "      <td>1</td>\n",
              "      <td>1</td>\n",
              "      <td>0.999999</td>\n",
              "      <td>0.999999</td>\n",
              "    </tr>\n",
              "    <tr>\n",
              "      <th>19581</th>\n",
              "      <td>train_data_in_folders/19/59e5df34-23d2-11e8-a6...</td>\n",
              "      <td>[[[0.0, 0.0, 0.0], [0.0, 0.0, 0.0], [0.0715293...</td>\n",
              "      <td>19</td>\n",
              "      <td>9</td>\n",
              "      <td>19</td>\n",
              "      <td>9</td>\n",
              "      <td>0.976901</td>\n",
              "      <td>0.976901</td>\n",
              "    </tr>\n",
              "    <tr>\n",
              "      <th>19582</th>\n",
              "      <td>train_data_in_folders/0/59a30a97-23d2-11e8-a6a...</td>\n",
              "      <td>[[[0.0, 0.0, 0.0], [0.0, 0.0, 0.0], [0.0715293...</td>\n",
              "      <td>0</td>\n",
              "      <td>0</td>\n",
              "      <td>0</td>\n",
              "      <td>0</td>\n",
              "      <td>0.999433</td>\n",
              "      <td>0.999433</td>\n",
              "    </tr>\n",
              "    <tr>\n",
              "      <th>19583</th>\n",
              "      <td>train_data_in_folders/0/58dc4d2a-23d2-11e8-a6a...</td>\n",
              "      <td>[[[0.0, 0.0, 0.0], [0.0, 0.0, 0.0], [0.0715293...</td>\n",
              "      <td>0</td>\n",
              "      <td>0</td>\n",
              "      <td>0</td>\n",
              "      <td>0</td>\n",
              "      <td>0.999999</td>\n",
              "      <td>0.999999</td>\n",
              "    </tr>\n",
              "    <tr>\n",
              "      <th>19584</th>\n",
              "      <td>train_data_in_folders/0/595def78-23d2-11e8-a6a...</td>\n",
              "      <td>[[[0.0, 0.0, 0.0], [0.0, 0.0, 0.0], [0.0715293...</td>\n",
              "      <td>0</td>\n",
              "      <td>0</td>\n",
              "      <td>0</td>\n",
              "      <td>0</td>\n",
              "      <td>0.986866</td>\n",
              "      <td>0.986866</td>\n",
              "    </tr>\n",
              "    <tr>\n",
              "      <th>19585</th>\n",
              "      <td>train_data_in_folders/0/59199971-23d2-11e8-a6a...</td>\n",
              "      <td>[[[0.0, 0.0, 0.0], [0.0, 0.0, 0.0], [0.0715293...</td>\n",
              "      <td>0</td>\n",
              "      <td>0</td>\n",
              "      <td>0</td>\n",
              "      <td>0</td>\n",
              "      <td>1.000000</td>\n",
              "      <td>1.000000</td>\n",
              "    </tr>\n",
              "    <tr>\n",
              "      <th>19586</th>\n",
              "      <td>train_data_in_folders/0/59ec531d-23d2-11e8-a6a...</td>\n",
              "      <td>[[[0.0, 0.0, 0.0], [0.0, 0.0, 0.0], [0.0715293...</td>\n",
              "      <td>0</td>\n",
              "      <td>0</td>\n",
              "      <td>0</td>\n",
              "      <td>0</td>\n",
              "      <td>0.999801</td>\n",
              "      <td>0.999801</td>\n",
              "    </tr>\n",
              "    <tr>\n",
              "      <th>19587</th>\n",
              "      <td>train_data_in_folders/0/59fc7f61-23d2-11e8-a6a...</td>\n",
              "      <td>[[[0.0, 0.0, 0.0], [0.0, 0.0, 0.0], [0.0715293...</td>\n",
              "      <td>0</td>\n",
              "      <td>0</td>\n",
              "      <td>0</td>\n",
              "      <td>0</td>\n",
              "      <td>0.803447</td>\n",
              "      <td>0.803447</td>\n",
              "    </tr>\n",
              "    <tr>\n",
              "      <th>19588</th>\n",
              "      <td>train_data_in_folders/0/59edf0c6-23d2-11e8-a6a...</td>\n",
              "      <td>[[[0.0, 0.0, 0.0], [0.0, 0.0, 0.0], [0.0715293...</td>\n",
              "      <td>0</td>\n",
              "      <td>0</td>\n",
              "      <td>0</td>\n",
              "      <td>0</td>\n",
              "      <td>0.997580</td>\n",
              "      <td>0.997580</td>\n",
              "    </tr>\n",
              "    <tr>\n",
              "      <th>19589</th>\n",
              "      <td>train_data_in_folders/0/58e938c9-23d2-11e8-a6a...</td>\n",
              "      <td>[[[0.0, 0.0, 0.0], [0.0, 0.0, 0.0], [0.0715293...</td>\n",
              "      <td>0</td>\n",
              "      <td>0</td>\n",
              "      <td>0</td>\n",
              "      <td>0</td>\n",
              "      <td>1.000000</td>\n",
              "      <td>1.000000</td>\n",
              "    </tr>\n",
              "    <tr>\n",
              "      <th>19590</th>\n",
              "      <td>train_data_in_folders/13/58b2ee78-23d2-11e8-a6...</td>\n",
              "      <td>[[[0.0, 0.0, 0.0], [0.0, 0.0, 0.0], [0.0715293...</td>\n",
              "      <td>13</td>\n",
              "      <td>4</td>\n",
              "      <td>13</td>\n",
              "      <td>4</td>\n",
              "      <td>0.994365</td>\n",
              "      <td>0.994365</td>\n",
              "    </tr>\n",
              "    <tr>\n",
              "      <th>19591</th>\n",
              "      <td>train_data_in_folders/0/58718680-23d2-11e8-a6a...</td>\n",
              "      <td>[[[0.0, 0.0, 0.0], [0.0, 0.0, 0.0], [0.0715293...</td>\n",
              "      <td>0</td>\n",
              "      <td>0</td>\n",
              "      <td>0</td>\n",
              "      <td>0</td>\n",
              "      <td>0.999898</td>\n",
              "      <td>0.999898</td>\n",
              "    </tr>\n",
              "    <tr>\n",
              "      <th>19592</th>\n",
              "      <td>train_data_in_folders/0/59e77dad-23d2-11e8-a6a...</td>\n",
              "      <td>[[[0.0, 0.0, 0.0], [0.0, 0.0, 0.0], [0.0715293...</td>\n",
              "      <td>0</td>\n",
              "      <td>0</td>\n",
              "      <td>0</td>\n",
              "      <td>0</td>\n",
              "      <td>0.999623</td>\n",
              "      <td>0.999623</td>\n",
              "    </tr>\n",
              "    <tr>\n",
              "      <th>19593</th>\n",
              "      <td>train_data_in_folders/0/59edf169-23d2-11e8-a6a...</td>\n",
              "      <td>[[[0.0, 0.0, 0.0], [0.0, 0.0, 0.0], [0.0715293...</td>\n",
              "      <td>0</td>\n",
              "      <td>0</td>\n",
              "      <td>0</td>\n",
              "      <td>0</td>\n",
              "      <td>0.996932</td>\n",
              "      <td>0.996932</td>\n",
              "    </tr>\n",
              "    <tr>\n",
              "      <th>19594</th>\n",
              "      <td>train_data_in_folders/0/58c97dd0-23d2-11e8-a6a...</td>\n",
              "      <td>[[[0.0, 0.0, 0.0], [0.0, 0.0, 0.0], [0.0715293...</td>\n",
              "      <td>0</td>\n",
              "      <td>0</td>\n",
              "      <td>0</td>\n",
              "      <td>0</td>\n",
              "      <td>0.999543</td>\n",
              "      <td>0.999543</td>\n",
              "    </tr>\n",
              "    <tr>\n",
              "      <th>19595</th>\n",
              "      <td>train_data_in_folders/4/5a063034-23d2-11e8-a6a...</td>\n",
              "      <td>[[[0.0, 0.0, 0.0], [0.0, 0.0, 0.0], [0.0793725...</td>\n",
              "      <td>4</td>\n",
              "      <td>12</td>\n",
              "      <td>4</td>\n",
              "      <td>12</td>\n",
              "      <td>0.994395</td>\n",
              "      <td>0.994395</td>\n",
              "    </tr>\n",
              "    <tr>\n",
              "      <th>19596</th>\n",
              "      <td>train_data_in_folders/8/59d418ca-23d2-11e8-a6a...</td>\n",
              "      <td>[[[0.0, 0.0, 0.0], [0.0, 0.0, 0.0], [0.0715293...</td>\n",
              "      <td>8</td>\n",
              "      <td>13</td>\n",
              "      <td>8</td>\n",
              "      <td>13</td>\n",
              "      <td>0.996861</td>\n",
              "      <td>0.996861</td>\n",
              "    </tr>\n",
              "    <tr>\n",
              "      <th>19597</th>\n",
              "      <td>train_data_in_folders/0/58c34f12-23d2-11e8-a6a...</td>\n",
              "      <td>[[[0.0, 0.0, 0.0], [0.0, 0.0, 0.0], [0.0715293...</td>\n",
              "      <td>0</td>\n",
              "      <td>0</td>\n",
              "      <td>0</td>\n",
              "      <td>0</td>\n",
              "      <td>0.999103</td>\n",
              "      <td>0.999103</td>\n",
              "    </tr>\n",
              "    <tr>\n",
              "      <th>19598</th>\n",
              "      <td>train_data_in_folders/0/59d41925-23d2-11e8-a6a...</td>\n",
              "      <td>[[[0.0, 0.0, 0.0], [0.0, 0.0, 0.0], [0.0715293...</td>\n",
              "      <td>0</td>\n",
              "      <td>0</td>\n",
              "      <td>0</td>\n",
              "      <td>0</td>\n",
              "      <td>0.999741</td>\n",
              "      <td>0.999741</td>\n",
              "    </tr>\n",
              "    <tr>\n",
              "      <th>19599</th>\n",
              "      <td>train_data_in_folders/19/58732c1a-23d2-11e8-a6...</td>\n",
              "      <td>[[[0.0, 0.0, 0.0], [0.0, 0.0, 0.0], [0.0715293...</td>\n",
              "      <td>19</td>\n",
              "      <td>9</td>\n",
              "      <td>19</td>\n",
              "      <td>9</td>\n",
              "      <td>0.991924</td>\n",
              "      <td>0.991924</td>\n",
              "    </tr>\n",
              "    <tr>\n",
              "      <th>19600</th>\n",
              "      <td>train_data_in_folders/0/592f7229-23d2-11e8-a6a...</td>\n",
              "      <td>[[[0.0, 0.0, 0.0], [0.0, 0.0, 0.0], [0.0793725...</td>\n",
              "      <td>0</td>\n",
              "      <td>0</td>\n",
              "      <td>0</td>\n",
              "      <td>0</td>\n",
              "      <td>0.999354</td>\n",
              "      <td>0.999354</td>\n",
              "    </tr>\n",
              "    <tr>\n",
              "      <th>19601</th>\n",
              "      <td>train_data_in_folders/18/59180b5b-23d2-11e8-a6...</td>\n",
              "      <td>[[[0.0, 0.0, 0.0], [0.0, 0.0, 0.0], [0.0715293...</td>\n",
              "      <td>18</td>\n",
              "      <td>8</td>\n",
              "      <td>18</td>\n",
              "      <td>8</td>\n",
              "      <td>1.000000</td>\n",
              "      <td>1.000000</td>\n",
              "    </tr>\n",
              "    <tr>\n",
              "      <th>19602</th>\n",
              "      <td>train_data_in_folders/0/597feeb3-23d2-11e8-a6a...</td>\n",
              "      <td>[[[0.0, 0.0, 0.0], [0.0, 0.0, 0.0], [0.0715293...</td>\n",
              "      <td>0</td>\n",
              "      <td>0</td>\n",
              "      <td>0</td>\n",
              "      <td>0</td>\n",
              "      <td>0.996239</td>\n",
              "      <td>0.996239</td>\n",
              "    </tr>\n",
              "    <tr>\n",
              "      <th>19603</th>\n",
              "      <td>train_data_in_folders/0/59b13228-23d2-11e8-a6a...</td>\n",
              "      <td>[[[0.0, 0.0, 0.0], [0.0, 0.0, 0.0], [0.0715293...</td>\n",
              "      <td>0</td>\n",
              "      <td>0</td>\n",
              "      <td>0</td>\n",
              "      <td>0</td>\n",
              "      <td>0.999864</td>\n",
              "      <td>0.999864</td>\n",
              "    </tr>\n",
              "    <tr>\n",
              "      <th>19604</th>\n",
              "      <td>train_data_in_folders/0/58b13010-23d2-11e8-a6a...</td>\n",
              "      <td>[[[0.0, 0.0, 0.0], [0.0, 0.0, 0.0], [0.0715293...</td>\n",
              "      <td>0</td>\n",
              "      <td>0</td>\n",
              "      <td>0</td>\n",
              "      <td>0</td>\n",
              "      <td>0.999926</td>\n",
              "      <td>0.999926</td>\n",
              "    </tr>\n",
              "    <tr>\n",
              "      <th>19605</th>\n",
              "      <td>train_data_in_folders/0/59a94e80-23d2-11e8-a6a...</td>\n",
              "      <td>[[[0.0, 0.0, 0.0], [0.0, 0.0, 0.0], [0.0715293...</td>\n",
              "      <td>0</td>\n",
              "      <td>0</td>\n",
              "      <td>0</td>\n",
              "      <td>0</td>\n",
              "      <td>0.999485</td>\n",
              "      <td>0.999485</td>\n",
              "    </tr>\n",
              "    <tr>\n",
              "      <th>19606</th>\n",
              "      <td>train_data_in_folders/0/59e5df72-23d2-11e8-a6a...</td>\n",
              "      <td>[[[0.0, 0.0, 0.0], [0.0, 0.0, 0.0], [0.0715293...</td>\n",
              "      <td>0</td>\n",
              "      <td>0</td>\n",
              "      <td>0</td>\n",
              "      <td>0</td>\n",
              "      <td>0.999808</td>\n",
              "      <td>0.999808</td>\n",
              "    </tr>\n",
              "    <tr>\n",
              "      <th>19607</th>\n",
              "      <td>train_data_in_folders/19/599d7d20-23d2-11e8-a6...</td>\n",
              "      <td>[[[0.0, 0.0, 0.0], [0.0, 0.0, 0.0], [0.0715293...</td>\n",
              "      <td>19</td>\n",
              "      <td>9</td>\n",
              "      <td>19</td>\n",
              "      <td>9</td>\n",
              "      <td>0.558660</td>\n",
              "      <td>0.558660</td>\n",
              "    </tr>\n",
              "    <tr>\n",
              "      <th>19608</th>\n",
              "      <td>train_data_in_folders/11/59ef8d98-23d2-11e8-a6...</td>\n",
              "      <td>[[[0.011764707, 0.011764707, 0.011764707], [0....</td>\n",
              "      <td>11</td>\n",
              "      <td>3</td>\n",
              "      <td>16</td>\n",
              "      <td>6</td>\n",
              "      <td>0.123549</td>\n",
              "      <td>0.729648</td>\n",
              "    </tr>\n",
              "  </tbody>\n",
              "</table>\n",
              "<p>19609 rows × 8 columns</p>\n",
              "</div>"
            ],
            "text/plain": [
              "                                                    path  ... pred_probs\n",
              "0      train_data_in_folders/19/5a1b1528-23d2-11e8-a6...  ...   0.537715\n",
              "1      train_data_in_folders/11/59941e4d-23d2-11e8-a6...  ...   0.942632\n",
              "2      train_data_in_folders/0/589609ef-23d2-11e8-a6a...  ...   0.999895\n",
              "3      train_data_in_folders/0/58e40ecf-23d2-11e8-a6a...  ...   0.988748\n",
              "4      train_data_in_folders/0/596a4eef-23d2-11e8-a6a...  ...   0.999294\n",
              "5      train_data_in_folders/0/58e598f5-23d2-11e8-a6a...  ...   0.999887\n",
              "6      train_data_in_folders/19/586fdd79-23d2-11e8-a6...  ...   0.998742\n",
              "7      train_data_in_folders/8/595addc1-23d2-11e8-a6a...  ...   0.983095\n",
              "8      train_data_in_folders/0/58c66444-23d2-11e8-a6a...  ...   0.999788\n",
              "9      train_data_in_folders/0/59fae537-23d2-11e8-a6a...  ...   0.999516\n",
              "10     train_data_in_folders/0/5883e897-23d2-11e8-a6a...  ...   0.999458\n",
              "11     train_data_in_folders/16/598dea0a-23d2-11e8-a6...  ...   0.875250\n",
              "12     train_data_in_folders/0/59be3f56-23d2-11e8-a6a...  ...   0.499267\n",
              "13     train_data_in_folders/0/5968c191-23d2-11e8-a6a...  ...   0.999791\n",
              "14     train_data_in_folders/19/5a1e50a0-23d2-11e8-a6...  ...   0.750339\n",
              "15     train_data_in_folders/0/5a24a879-23d2-11e8-a6a...  ...   0.999456\n",
              "16     train_data_in_folders/1/5a197a8c-23d2-11e8-a6a...  ...   0.999106\n",
              "17     train_data_in_folders/0/58e0f4cf-23d2-11e8-a6a...  ...   0.996379\n",
              "18     train_data_in_folders/0/5874d3e0-23d2-11e8-a6a...  ...   1.000000\n",
              "19     train_data_in_folders/19/5a14a720-23d2-11e8-a6...  ...   0.913095\n",
              "20     train_data_in_folders/0/5956361e-23d2-11e8-a6a...  ...   0.999369\n",
              "21     train_data_in_folders/0/5a130a4d-23d2-11e8-a6a...  ...   0.999827\n",
              "22     train_data_in_folders/19/58adc1b8-23d2-11e8-a6...  ...   0.521979\n",
              "23     train_data_in_folders/13/59420fa5-23d2-11e8-a6...  ...   0.999923\n",
              "24     train_data_in_folders/16/59d41ac8-23d2-11e8-a6...  ...   0.842220\n",
              "25     train_data_in_folders/0/5976a5a6-23d2-11e8-a6a...  ...   0.996258\n",
              "26     train_data_in_folders/0/591367f0-23d2-11e8-a6a...  ...   0.999559\n",
              "27     train_data_in_folders/0/59d27b39-23d2-11e8-a6a...  ...   0.737521\n",
              "28     train_data_in_folders/0/59b615db-23d2-11e8-a6a...  ...   0.999350\n",
              "29     train_data_in_folders/19/59dc2568-23d2-11e8-a6...  ...   0.569603\n",
              "...                                                  ...  ...        ...\n",
              "19579  train_data_in_folders/0/59ddbfdb-23d2-11e8-a6a...  ...   0.998918\n",
              "19580  train_data_in_folders/1/59a49b5b-23d2-11e8-a6a...  ...   0.999999\n",
              "19581  train_data_in_folders/19/59e5df34-23d2-11e8-a6...  ...   0.976901\n",
              "19582  train_data_in_folders/0/59a30a97-23d2-11e8-a6a...  ...   0.999433\n",
              "19583  train_data_in_folders/0/58dc4d2a-23d2-11e8-a6a...  ...   0.999999\n",
              "19584  train_data_in_folders/0/595def78-23d2-11e8-a6a...  ...   0.986866\n",
              "19585  train_data_in_folders/0/59199971-23d2-11e8-a6a...  ...   1.000000\n",
              "19586  train_data_in_folders/0/59ec531d-23d2-11e8-a6a...  ...   0.999801\n",
              "19587  train_data_in_folders/0/59fc7f61-23d2-11e8-a6a...  ...   0.803447\n",
              "19588  train_data_in_folders/0/59edf0c6-23d2-11e8-a6a...  ...   0.997580\n",
              "19589  train_data_in_folders/0/58e938c9-23d2-11e8-a6a...  ...   1.000000\n",
              "19590  train_data_in_folders/13/58b2ee78-23d2-11e8-a6...  ...   0.994365\n",
              "19591  train_data_in_folders/0/58718680-23d2-11e8-a6a...  ...   0.999898\n",
              "19592  train_data_in_folders/0/59e77dad-23d2-11e8-a6a...  ...   0.999623\n",
              "19593  train_data_in_folders/0/59edf169-23d2-11e8-a6a...  ...   0.996932\n",
              "19594  train_data_in_folders/0/58c97dd0-23d2-11e8-a6a...  ...   0.999543\n",
              "19595  train_data_in_folders/4/5a063034-23d2-11e8-a6a...  ...   0.994395\n",
              "19596  train_data_in_folders/8/59d418ca-23d2-11e8-a6a...  ...   0.996861\n",
              "19597  train_data_in_folders/0/58c34f12-23d2-11e8-a6a...  ...   0.999103\n",
              "19598  train_data_in_folders/0/59d41925-23d2-11e8-a6a...  ...   0.999741\n",
              "19599  train_data_in_folders/19/58732c1a-23d2-11e8-a6...  ...   0.991924\n",
              "19600  train_data_in_folders/0/592f7229-23d2-11e8-a6a...  ...   0.999354\n",
              "19601  train_data_in_folders/18/59180b5b-23d2-11e8-a6...  ...   1.000000\n",
              "19602  train_data_in_folders/0/597feeb3-23d2-11e8-a6a...  ...   0.996239\n",
              "19603  train_data_in_folders/0/59b13228-23d2-11e8-a6a...  ...   0.999864\n",
              "19604  train_data_in_folders/0/58b13010-23d2-11e8-a6a...  ...   0.999926\n",
              "19605  train_data_in_folders/0/59a94e80-23d2-11e8-a6a...  ...   0.999485\n",
              "19606  train_data_in_folders/0/59e5df72-23d2-11e8-a6a...  ...   0.999808\n",
              "19607  train_data_in_folders/19/599d7d20-23d2-11e8-a6...  ...   0.558660\n",
              "19608  train_data_in_folders/11/59ef8d98-23d2-11e8-a6...  ...   0.729648\n",
              "\n",
              "[19609 rows x 8 columns]"
            ]
          },
          "metadata": {
            "tags": []
          },
          "execution_count": 43
        }
      ]
    },
    {
      "cell_type": "code",
      "metadata": {
        "id": "SfSDuDneHdBJ",
        "colab_type": "code",
        "colab": {}
      },
      "source": [
        "trainer.show_predictions()"
      ],
      "execution_count": 0,
      "outputs": []
    },
    {
      "cell_type": "code",
      "metadata": {
        "id": "yO9v2bjC4rU8",
        "colab_type": "code",
        "colab": {}
      },
      "source": [
        ""
      ],
      "execution_count": 0,
      "outputs": []
    }
  ]
}